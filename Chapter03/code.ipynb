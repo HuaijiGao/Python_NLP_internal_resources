{
  "cells": [
    {
      "cell_type": "markdown",
      "metadata": {
        "id": "view-in-github",
        "colab_type": "text"
      },
      "source": [
        "<a href=\"https://colab.research.google.com/github/JefoGao/Resource_NLP-in-Python/blob/main/Chapter03/code.ipynb\" target=\"_parent\"><img src=\"https://colab.research.google.com/assets/colab-badge.svg\" alt=\"Open In Colab\"/></a>"
      ]
    },
    {
      "cell_type": "markdown",
      "metadata": {
        "id": "4pu6YKs3JVHG"
      },
      "source": [
        "# Lab2"
      ]
    },
    {
      "cell_type": "markdown",
      "metadata": {
        "id": "hzloHzwEJbOZ"
      },
      "source": [
        "In this lab, we are going to learn about NLTK, Spacy and some visualization techniques, let's begin."
      ]
    },
    {
      "cell_type": "markdown",
      "metadata": {
        "id": "LkFy8w8LJW5i"
      },
      "source": [
        "# NLTK\n",
        "\n",
        "NLTK is one of the major NLP packages in Python. It is targeted at learners rather than being a production library which makes a good starting point for our purposes.\n",
        "\n",
        "The first step is to import nltk then make sure that all the necessary files are downloaded."
      ]
    },
    {
      "cell_type": "code",
      "execution_count": 1,
      "metadata": {
        "colab": {
          "base_uri": "https://localhost:8080/"
        },
        "id": "ot1hvTcxVAQL",
        "outputId": "b055ad59-d538-4fe9-9e52-7e4d762ec1ef"
      },
      "outputs": [
        {
          "output_type": "execute_result",
          "data": {
            "text/plain": [
              "True"
            ]
          },
          "metadata": {},
          "execution_count": 1
        }
      ],
      "source": [
        "import nltk\n",
        "nltk.download(\"all\", quiet=True)"
      ]
    },
    {
      "cell_type": "markdown",
      "metadata": {
        "id": "jUYVs5ICVAt1"
      },
      "source": [
        "If you are running on your personal machine (not within Google colab), you only need to do this once. \n",
        "\n",
        "NLTK offers a special module called \"book\" which can be imported using ```from nltk.book import *``` \n",
        "\n",
        "After printing a welcome message, it loads the text of several books (this will take a few seconds)."
      ]
    },
    {
      "cell_type": "code",
      "execution_count": 2,
      "metadata": {
        "id": "HLQtW_CLVmCg",
        "colab": {
          "base_uri": "https://localhost:8080/"
        },
        "outputId": "b79c8afb-aeb1-4d38-f634-d787f003ff74"
      },
      "outputs": [
        {
          "output_type": "stream",
          "name": "stdout",
          "text": [
            "*** Introductory Examples for the NLTK Book ***\n",
            "Loading text1, ..., text9 and sent1, ..., sent9\n",
            "Type the name of the text or sentence to view it.\n",
            "Type: 'texts()' or 'sents()' to list the materials.\n",
            "text1: Moby Dick by Herman Melville 1851\n",
            "text2: Sense and Sensibility by Jane Austen 1811\n",
            "text3: The Book of Genesis\n",
            "text4: Inaugural Address Corpus\n",
            "text5: Chat Corpus\n",
            "text6: Monty Python and the Holy Grail\n",
            "text7: Wall Street Journal\n",
            "text8: Personals Corpus\n",
            "text9: The Man Who Was Thursday by G . K . Chesterton 1908\n"
          ]
        }
      ],
      "source": [
        "from nltk.book import *"
      ]
    },
    {
      "cell_type": "markdown",
      "metadata": {
        "id": "tquXN7iJV16H"
      },
      "source": [
        "This module contains a number of Corpora that are ready to practice on. The Corpora are named: *text1* - *text9*"
      ]
    },
    {
      "cell_type": "code",
      "execution_count": 3,
      "metadata": {
        "colab": {
          "base_uri": "https://localhost:8080/"
        },
        "id": "QKG-wIKlV-Aq",
        "outputId": "ebb25879-2cb5-47d1-ff7d-5e864c8c8174"
      },
      "outputs": [
        {
          "output_type": "execute_result",
          "data": {
            "text/plain": [
              "<Text: Moby Dick by Herman Melville 1851>"
            ]
          },
          "metadata": {},
          "execution_count": 3
        }
      ],
      "source": [
        "text1"
      ]
    },
    {
      "cell_type": "code",
      "execution_count": 4,
      "metadata": {
        "colab": {
          "base_uri": "https://localhost:8080/"
        },
        "id": "TE6XRdkKWHcf",
        "outputId": "6b6092be-0592-4d1b-f6bb-c25ef12ef5b7"
      },
      "outputs": [
        {
          "output_type": "execute_result",
          "data": {
            "text/plain": [
              "<Text: Sense and Sensibility by Jane Austen 1811>"
            ]
          },
          "metadata": {},
          "execution_count": 4
        }
      ],
      "source": [
        "text2"
      ]
    },
    {
      "cell_type": "markdown",
      "metadata": {
        "id": "Tr0CMsyZV-Np"
      },
      "source": [
        "##  Searching Text\n",
        "There are many ways to examine the context of a text apart from simply reading it. **A concordance view shows us every occurrence of a given word, together with some context**."
      ]
    },
    {
      "cell_type": "code",
      "execution_count": 5,
      "metadata": {
        "colab": {
          "base_uri": "https://localhost:8080/"
        },
        "id": "eaDZGlTvWXWG",
        "outputId": "23758c7f-ecb2-48a1-f3fb-d22ab98c1600"
      },
      "outputs": [
        {
          "output_type": "stream",
          "name": "stdout",
          "text": [
            "Displaying 25 of 87 matches:\n",
            "word , you deliver that which is not true .\" -- HACKLUYT \" WHALE . ... Sw . an\n",
            " foam .\" -- TOOKE ' S LUCIAN . \" THE TRUE HISTORY .\" \" He visited this country\n",
            " \" is not only better armed than the True Whale \" ( Greenland or Right Whale )\n",
            "oft there to the royal mast - head . True , they rather order me about some , \n",
            "e wight Death is the only glazier .\" True enough , thought I , as this passage\n",
            "o which he pours his poison . Though true cylinders without -- within , the vi\n",
            "ry about selling his head , which if true I take to be good evidence that this\n",
            " New England . It is a land of oil , true enough : but not like Canaan ; a lan\n",
            "y call my shadow here on earth is my true substance . Methinks that in looking\n",
            "y temple . And here , shipmates , is true and faithful repentance ; not clamor\n",
            "nted pilot - prophet , or speaker of true things , and bidden by the Lord to s\n",
            "honour ! Woe to him who would not be true , even though to be false were salva\n",
            "hing as that . But , perhaps , to be true philosophers , we mortals should not\n",
            " South . It is not down in any map ; true places never are . When a new - hatc\n",
            "lied , that though what I hinted was true enough , yet he had a particular aff\n",
            "t are carried about like bits of the true cross in Rome ; that people there pl\n",
            "mbers . \" Why not ? said I ; \" every true whaleman sleeps with his harpoon -- \n",
            "I could , \" What you say is no doubt true enough , sir ; but how could I know \n",
            "t he knew a good deal more about the true religion than I did . He looked at m\n",
            "op !\" cried the stranger . \" Ye said true -- ye hav ' n ' t seen Old Thunder y\n",
            "od captain to his crew .\" \" That ' s true , that ' s true -- yes , both true e\n",
            "s crew .\" \" That ' s true , that ' s true -- yes , both true enough . But you \n",
            "s true , that ' s true -- yes , both true enough . But you must jump when he g\n",
            "bankers . And though this also holds true of merchant vessels , yet not by any\n",
            "ilements . Butchers we are , that is true . But butchers , also , and butchers\n"
          ]
        }
      ],
      "source": [
        "text1.concordance(\"true\")"
      ]
    },
    {
      "cell_type": "markdown",
      "metadata": {
        "id": "6eYpFKg32wv1"
      },
      "source": [
        "Try it yourself. Let's find more about the words: [\"often\", \"test\", \"extreme\"] in text2"
      ]
    },
    {
      "cell_type": "code",
      "execution_count": 6,
      "metadata": {
        "colab": {
          "base_uri": "https://localhost:8080/"
        },
        "id": "YdqpzSCM2vwy",
        "outputId": "d93f80ca-6d5a-4165-a568-b79eeb5efa46"
      },
      "outputs": [
        {
          "output_type": "stream",
          "name": "stdout",
          "text": [
            "Displaying 25 of 52 matches:\n",
            "ink , be in doubt , who has seen him often enough to engage him in unreserved c\n",
            "ealed only by that shyness which too often keeps him silent . You know enough o\n",
            "ties of our friends as I hope to see often collected here ; and I have some tho\n",
            " who are sportsmen likewise , is not often desirous of encouraging their taste \n",
            " water were made and accomplished as often as a showery October would allow . I\n",
            " the house ? Is not it what you have often wished to do yourself ?\" \" Yes , Mar\n",
            "hose fine bold hills that we have so often admired . I did not see it to advant\n",
            "hardly be equal , and he had himself often complained of his poverty . But for \n",
            " how well she understood him . \" How often did I wish ,\" added he , \" when I wa\n",
            "ately singing and crying ; her voice often totally suspended by her tears . In \n",
            "er , Elinor ,\" said she , \" how very often Sir John fetches our letters himself\n",
            "unaccountable coldness which she had often observed at Norland in their mutual \n",
            "leaves .\" \" No ; my feelings are not often shared , not often understood . But \n",
            " feelings are not often shared , not often understood . But SOMETIMES they are \n",
            "ays with animation -- but she is not often really merry .\" \" I believe you are \n",
            " I am guilty , I confess , of having often wished you to treat our acquaintance\n",
            ", but I am so foolishly shy , that I often seem negligent , when I am only kept\n",
            " at the strange unsuitableness which often existed between husband and wife , b\n",
            "entleman alluded to , which , though often impertinently expressed , was perfec\n",
            " naturally clever ; her remarks were often just and amusing ; and as a companio\n",
            "nce begun , for my sister and me was often staying with my uncle , and it was t\n",
            "their family connections , which had often surprised her , the picture , the le\n",
            "t occurred ; for the weather was not often fine enough to allow of their joinin\n",
            "anners of a person , to whom she had often had difficulty in persuading Mariann\n",
            " - in - law ' s family .\" Elinor had often wished for an opportunity of attempt\n"
          ]
        }
      ],
      "source": [
        "# Your code goes here\n",
        "text2.concordance(\"often\")"
      ]
    },
    {
      "cell_type": "code",
      "execution_count": 7,
      "metadata": {
        "id": "NbN_OoE6i_vp",
        "colab": {
          "base_uri": "https://localhost:8080/"
        },
        "outputId": "0ec46964-8a5a-4018-cc21-049fd3d538f5"
      },
      "outputs": [
        {
          "output_type": "stream",
          "name": "stdout",
          "text": [
            "Displaying 1 of 1 matches:\n",
            " , \" has been pretty well put to the test , by our long , very long absence si\n"
          ]
        }
      ],
      "source": [
        "text2.concordance(\"test\")"
      ]
    },
    {
      "cell_type": "code",
      "execution_count": 8,
      "metadata": {
        "id": "hGWpKGTAjDFI",
        "colab": {
          "base_uri": "https://localhost:8080/"
        },
        "outputId": "373997f4-7b17-4c1e-dff4-5c90fa5f18a1"
      },
      "outputs": [
        {
          "output_type": "stream",
          "name": "stdout",
          "text": [
            "Displaying 4 of 4 matches:\n",
            "n another day or two perhaps ; this extreme mildness can hardly last longer -- \n",
            "ng her that he was kept away by the extreme affection for herself , which he co\n",
            " of his brother , and lamenting the extreme GAUCHERIE which he really believed \n",
            "y which had been leading her to the extreme of languid indolence and selfish re\n"
          ]
        }
      ],
      "source": [
        "text2.concordance(\"extreme\")"
      ]
    },
    {
      "cell_type": "markdown",
      "metadata": {
        "id": "sttxNYIXWXiu"
      },
      "source": [
        "A concordance permits us to see words in context. For example, we saw that monstrous occurred in contexts such as the \\_\\_\\_ pictures and a \\_\\_\\_ size . \n",
        "\n",
        "What other words appear in a similar range of contexts? We can find out by appending the term similar to the name of the text in question, then inserting the relevant word in parentheses:"
      ]
    },
    {
      "cell_type": "code",
      "execution_count": 9,
      "metadata": {
        "colab": {
          "base_uri": "https://localhost:8080/"
        },
        "id": "2eZZBBiuW7CF",
        "outputId": "3926a4b0-91ca-4668-8eb7-7cbf4e887735"
      },
      "outputs": [
        {
          "output_type": "stream",
          "name": "stdout",
          "text": [
            "true contemptible christian abundant few part mean careful puzzled\n",
            "mystifying passing curious loving wise doleful gamesome singular\n",
            "delightfully perilous fearless\n"
          ]
        }
      ],
      "source": [
        "text1.similar(\"monstrous\")"
      ]
    },
    {
      "cell_type": "code",
      "execution_count": 10,
      "metadata": {
        "colab": {
          "base_uri": "https://localhost:8080/"
        },
        "id": "xrIWgQZFXCK6",
        "outputId": "99b3128f-c59a-4a73-c08e-b5326e5c7dfb"
      },
      "outputs": [
        {
          "output_type": "stream",
          "name": "stdout",
          "text": [
            "very so exceedingly heartily a as good great extremely remarkably\n",
            "sweet vast amazingly\n"
          ]
        }
      ],
      "source": [
        "text2.similar(\"monstrous\")"
      ]
    },
    {
      "cell_type": "markdown",
      "metadata": {
        "id": "A7LpxuTDW7I4"
      },
      "source": [
        "Observe that we get different results for different texts. Austen uses this word quite differently from Melville; for her, monstrous has positive connotations, and sometimes functions as an intensifier like the word very.\n",
        "\n",
        "The method ```common_contexts``` allows us to examine just the contexts that are shared by two or more words, such as monstrous and very. "
      ]
    },
    {
      "cell_type": "code",
      "execution_count": 17,
      "metadata": {
        "colab": {
          "base_uri": "https://localhost:8080/"
        },
        "id": "7ttTzdVpXQqh",
        "outputId": "70bb341a-4b39-46e0-aa78-5001f7f9bae6"
      },
      "outputs": [
        {
          "output_type": "stream",
          "name": "stdout",
          "text": [
            "am_glad a_pretty a_lucky is_pretty be_glad\n"
          ]
        }
      ],
      "source": [
        "text2.common_contexts([\"monstrous\", \"very\"])"
      ]
    },
    {
      "cell_type": "markdown",
      "metadata": {
        "id": "MPZbNAHCXQBw"
      },
      "source": [
        "Your Turn: pick another pair of words and compare their usage in two different texts, using the ```similar()``` and ```common_contexts()``` functions.\n"
      ]
    },
    {
      "cell_type": "code",
      "execution_count": 18,
      "metadata": {
        "colab": {
          "base_uri": "https://localhost:8080/"
        },
        "id": "w3KW8t5D425d",
        "outputId": "e3d6297a-9a2f-4b9e-e431-5a06e99ba40b"
      },
      "outputs": [
        {
          "output_type": "stream",
          "name": "stdout",
          "text": [
            "all out long allusions sung many thou wine one full eyes much sunrise\n",
            "also some king sixty man progress gills\n"
          ]
        }
      ],
      "source": [
        "text1.similar(\"benevolent\")"
      ]
    },
    {
      "cell_type": "code",
      "execution_count": 19,
      "metadata": {
        "colab": {
          "base_uri": "https://localhost:8080/"
        },
        "id": "z-WzGnsq05kG",
        "outputId": "f2ab078d-86b0-4945-bccd-8d3f4bb7c964"
      },
      "outputs": [
        {
          "output_type": "stream",
          "name": "stdout",
          "text": [
            "a_man\n",
            "No common contexts were found\n"
          ]
        }
      ],
      "source": [
        "# Your code goes here\n",
        "\n",
        "# find the common contexts in which the words: great and dangerous are used in text1\n",
        "text1.common_contexts([\"great\", \"dangerous\"])\n",
        "\n",
        "# find the common contexts in which the words: benevolent and fish are used in text1\n",
        "text1.common_contexts([\"benevolent\", \"fish\"])"
      ]
    },
    {
      "cell_type": "markdown",
      "metadata": {
        "id": "gVihEk6L060k"
      },
      "source": [
        "It is one thing to automatically detect that a particular word occurs in a text, and to display some words that appear in the same context. \n",
        "\n",
        "However, we can also determine the location of a word in the text: how many words from the beginning it appears. This positional information can be displayed using a dispersion plot. Each stripe represents an instance of a word, and each row represents the entire text."
      ]
    },
    {
      "cell_type": "code",
      "execution_count": 15,
      "metadata": {
        "colab": {
          "base_uri": "https://localhost:8080/",
          "height": 295
        },
        "id": "RBMOFFsJXcOR",
        "outputId": "36a0934a-41df-4f9f-bb88-6423de1e6209"
      },
      "outputs": [
        {
          "output_type": "display_data",
          "data": {
            "text/plain": [
              "<Figure size 432x288 with 1 Axes>"
            ],
            "image/png": "[encoded data removed]"
          },
          "metadata": {
            "needs_background": "light"
          }
        }
      ],
      "source": [
        "text4.dispersion_plot([\"citizens\", \"democracy\", \"freedom\", \"duties\", \"America\"])"
      ]
    },
    {
      "cell_type": "markdown",
      "metadata": {
        "id": "KIwOZLyi6NqR"
      },
      "source": [
        "Try more words (e.g., liberty, constitution), and different texts. "
      ]
    },
    {
      "cell_type": "code",
      "execution_count": 16,
      "metadata": {
        "colab": {
          "base_uri": "https://localhost:8080/",
          "height": 295
        },
        "id": "h42HlzRJ6RWg",
        "outputId": "e5da9efd-fae7-483a-b4a1-45a09bd61393"
      },
      "outputs": [
        {
          "output_type": "display_data",
          "data": {
            "text/plain": [
              "<Figure size 432x288 with 1 Axes>"
            ],
            "image/png": "[encoded data removed]"
          },
          "metadata": {
            "needs_background": "light"
          }
        }
      ],
      "source": [
        "# Your code goes here\n",
        "text4.dispersion_plot([\"liberty\", \"nation\", \"constitution\", \"kindness\", \"pope\"])"
      ]
    },
    {
      "cell_type": "markdown",
      "metadata": {
        "id": "Nn0QmfsrXcV0"
      },
      "source": [
        "\n",
        "For these plots to work, it is assumed that ```numpy``` and ```matplotlib``` are installed."
      ]
    },
    {
      "cell_type": "markdown",
      "metadata": {
        "id": "P4Ac1p0lXuyY"
      },
      "source": [
        "\n",
        "\n",
        "##   Counting Vocabulary\n",
        "The most obvious fact about texts that emerges from the preceding examples is that they differ in the vocabulary they use. \n",
        "\n",
        "Let's begin by finding out the length of a text from start to finish, in terms of the words and punctuation symbols that appear. \n",
        "\n",
        "Let's find the number of words in the book of Genensis:"
      ]
    },
    {
      "cell_type": "code",
      "execution_count": 20,
      "metadata": {
        "colab": {
          "base_uri": "https://localhost:8080/"
        },
        "id": "lYg6xoflYZ4B",
        "outputId": "3a2cb1c9-6516-465b-888b-d6f187ea0b0d"
      },
      "outputs": [
        {
          "output_type": "execute_result",
          "data": {
            "text/plain": [
              "44764"
            ]
          },
          "metadata": {},
          "execution_count": 20
        }
      ],
      "source": [
        "len(text3)"
      ]
    },
    {
      "cell_type": "markdown",
      "metadata": {
        "id": "Tse16z5EYZI8"
      },
      "source": [
        "So Genesis has 44,764 words and punctuation symbols, or \"tokens.\" \n",
        "\n",
        "This includes duplicate tokens. To find the number of unique words, we use the ```set``` data structure as follows:"
      ]
    },
    {
      "cell_type": "code",
      "execution_count": 26,
      "metadata": {
        "colab": {
          "base_uri": "https://localhost:8080/"
        },
        "id": "dZUY_xEwYqtz",
        "outputId": "578135b0-3fd7-46c9-995a-fca8ce5fdd9e"
      },
      "outputs": [
        {
          "output_type": "stream",
          "name": "stdout",
          "text": [
            "['weep', 'Matred', 'Ludim', 'Jared', 'here', 'hunting', 'earth', 'Jabbok', 'provide', 'kissed']\n"
          ]
        }
      ],
      "source": [
        "print(list(set(text3))[:10]) # limit the output to be 10"
      ]
    },
    {
      "cell_type": "markdown",
      "metadata": {
        "id": "FhHUEUJG7tCn"
      },
      "source": [
        "and to get a sorted set, we use the Python ```sorted()``` function:"
      ]
    },
    {
      "cell_type": "code",
      "execution_count": 27,
      "metadata": {
        "id": "sAFlnxij71qE",
        "colab": {
          "base_uri": "https://localhost:8080/"
        },
        "outputId": "2f94552a-e9b6-43e1-9d77-f463b52903cf"
      },
      "outputs": [
        {
          "output_type": "stream",
          "name": "stdout",
          "text": [
            "['!', \"'\", '(', ')', ',', ',)', '.', '.)', ':', ';']\n"
          ]
        }
      ],
      "source": [
        "print(list(sorted(set(text3)))[:10]) # limit the output to be 10"
      ]
    },
    {
      "cell_type": "code",
      "execution_count": 28,
      "metadata": {
        "colab": {
          "base_uri": "https://localhost:8080/"
        },
        "id": "T3xn-ufTZB90",
        "outputId": "bb821cc8-9858-4e33-a39b-84635b1c48e6"
      },
      "outputs": [
        {
          "output_type": "execute_result",
          "data": {
            "text/plain": [
              "2789"
            ]
          },
          "metadata": {},
          "execution_count": 28
        }
      ],
      "source": [
        "len(set(text3))"
      ]
    },
    {
      "cell_type": "markdown",
      "metadata": {
        "id": "bWzz1HgGYq1u"
      },
      "source": [
        "Although it has 44,764 tokens, this book has only 2,789 distinct words, or \"word types.\" \n",
        "\n",
        "Now, let's calculate a measure of the lexical richness of the text. The next example shows us that the number of distinct words is just 6% of the total number of words, or equivalently that each word is used 16 times on average\n"
      ]
    },
    {
      "cell_type": "code",
      "execution_count": 29,
      "metadata": {
        "colab": {
          "base_uri": "https://localhost:8080/"
        },
        "id": "I7qEndcrZSWk",
        "outputId": "b59edec9-5bb0-419e-84fb-5db8df336b03"
      },
      "outputs": [
        {
          "output_type": "execute_result",
          "data": {
            "text/plain": [
              "0.06230453042623537"
            ]
          },
          "metadata": {},
          "execution_count": 29
        }
      ],
      "source": [
        "len(set(text3)) / len(text3)"
      ]
    },
    {
      "cell_type": "code",
      "execution_count": 30,
      "metadata": {
        "colab": {
          "base_uri": "https://localhost:8080/"
        },
        "id": "7Q2UWXUw0SUT",
        "outputId": "ce0de2bf-4c78-4eb2-dd3c-8ed23257c108"
      },
      "outputs": [
        {
          "output_type": "execute_result",
          "data": {
            "text/plain": [
              "16.050197203298673"
            ]
          },
          "metadata": {},
          "execution_count": 30
        }
      ],
      "source": [
        "len(text3)/len(set(text3)) "
      ]
    },
    {
      "cell_type": "markdown",
      "metadata": {
        "id": "wFIhQ-oaZSd6"
      },
      "source": [
        "Next, let's focus on particular words. We can count how often a word occurs in a text, and compute what percentage of the text is taken up by a specific word:"
      ]
    },
    {
      "cell_type": "code",
      "execution_count": 31,
      "metadata": {
        "colab": {
          "base_uri": "https://localhost:8080/"
        },
        "id": "QuDVfwpWZhMI",
        "outputId": "8d6ba6c0-f266-4671-b411-1bd8540e279c"
      },
      "outputs": [
        {
          "output_type": "execute_result",
          "data": {
            "text/plain": [
              "5"
            ]
          },
          "metadata": {},
          "execution_count": 31
        }
      ],
      "source": [
        "text3.count(\"smote\")"
      ]
    },
    {
      "cell_type": "code",
      "execution_count": 32,
      "metadata": {
        "colab": {
          "base_uri": "https://localhost:8080/"
        },
        "id": "vfiqeKNPZoBc",
        "outputId": "fe3e170f-689c-4da8-f2ae-31f5df6a7a8b"
      },
      "outputs": [
        {
          "output_type": "execute_result",
          "data": {
            "text/plain": [
              "1.457806031353621"
            ]
          },
          "metadata": {},
          "execution_count": 32
        }
      ],
      "source": [
        "100 * text4.count(\"a\") / len(text4) # the percentage of \"a\" in the total number of words"
      ]
    },
    {
      "cell_type": "markdown",
      "metadata": {
        "id": "gRNw7RetZghy"
      },
      "source": [
        "Your Turn: How many times does the word *lol* appear in text5? How much is this as a percentage of the total number of words in this text?\n"
      ]
    },
    {
      "cell_type": "code",
      "execution_count": 33,
      "metadata": {
        "colab": {
          "base_uri": "https://localhost:8080/"
        },
        "id": "jxhyP6uVZv0u",
        "outputId": "0ca81d12-39fc-4de9-fe7a-6dd4aec79098"
      },
      "outputs": [
        {
          "output_type": "execute_result",
          "data": {
            "text/plain": [
              "1.5640968673628082"
            ]
          },
          "metadata": {},
          "execution_count": 33
        }
      ],
      "source": [
        "# Your code goes here\n",
        "100 * text5.count(\"lol\") / len(text5)"
      ]
    },
    {
      "cell_type": "markdown",
      "metadata": {
        "id": "cdTUB9vdaZFh"
      },
      "source": [
        "To simplify things, let's create a functions for calculating lexical diversity"
      ]
    },
    {
      "cell_type": "code",
      "execution_count": 34,
      "metadata": {
        "id": "8B9ybSUbaLwF"
      },
      "outputs": [],
      "source": [
        "def lexical_diversity(text):\n",
        "  return len(set(text)) / len(text)\n",
        "\n",
        "def percentage(count, total):\n",
        "  return 100 * count / total"
      ]
    },
    {
      "cell_type": "markdown",
      "metadata": {
        "id": "sSmjI5wfa023"
      },
      "source": [
        "We can go ahead and use these functions, let's find the number of tokens, the number of types, the lexical diversity for for the for the following:"
      ]
    },
    {
      "cell_type": "code",
      "execution_count": 35,
      "metadata": {
        "colab": {
          "base_uri": "https://localhost:8080/"
        },
        "id": "9rI2rb9Xbl4n",
        "outputId": "d52c828d-db8f-4c80-9eea-99a62b3a4c37"
      },
      "outputs": [
        {
          "output_type": "stream",
          "name": "stdout",
          "text": [
            "The type of brown is: <class 'nltk.corpus.util.LazyCorpusLoader'>\n"
          ]
        },
        {
          "output_type": "execute_result",
          "data": {
            "text/plain": [
              "(1161192, 56057, 0.048275392872152066)"
            ]
          },
          "metadata": {},
          "execution_count": 35
        }
      ],
      "source": [
        "from nltk.corpus import brown\n",
        "\n",
        "print(f\"The type of brown is: {type(brown)}\")\n",
        "\n",
        "len(brown.words()), len(set(brown.words())), lexical_diversity(brown.words())"
      ]
    },
    {
      "cell_type": "code",
      "execution_count": 39,
      "metadata": {
        "id": "9SOYWtB2isvP",
        "colab": {
          "base_uri": "https://localhost:8080/"
        },
        "outputId": "f621605d-563b-4e3f-aeed-5761edd415c8"
      },
      "outputs": [
        {
          "output_type": "execute_result",
          "data": {
            "text/plain": [
              "[[['The',\n",
              "   'Fulton',\n",
              "   'County',\n",
              "   'Grand',\n",
              "   'Jury',\n",
              "   'said',\n",
              "   'Friday',\n",
              "   'an',\n",
              "   'investigation',\n",
              "   'of',\n",
              "   \"Atlanta's\",\n",
              "   'recent',\n",
              "   'primary',\n",
              "   'election',\n",
              "   'produced',\n",
              "   '``',\n",
              "   'no',\n",
              "   'evidence',\n",
              "   \"''\",\n",
              "   'that',\n",
              "   'any',\n",
              "   'irregularities',\n",
              "   'took',\n",
              "   'place',\n",
              "   '.']],\n",
              " [['The',\n",
              "   'jury',\n",
              "   'further',\n",
              "   'said',\n",
              "   'in',\n",
              "   'term-end',\n",
              "   'presentments',\n",
              "   'that',\n",
              "   'the',\n",
              "   'City',\n",
              "   'Executive',\n",
              "   'Committee',\n",
              "   ',',\n",
              "   'which',\n",
              "   'had',\n",
              "   'over-all',\n",
              "   'charge',\n",
              "   'of',\n",
              "   'the',\n",
              "   'election',\n",
              "   ',',\n",
              "   '``',\n",
              "   'deserves',\n",
              "   'the',\n",
              "   'praise',\n",
              "   'and',\n",
              "   'thanks',\n",
              "   'of',\n",
              "   'the',\n",
              "   'City',\n",
              "   'of',\n",
              "   'Atlanta',\n",
              "   \"''\",\n",
              "   'for',\n",
              "   'the',\n",
              "   'manner',\n",
              "   'in',\n",
              "   'which',\n",
              "   'the',\n",
              "   'election',\n",
              "   'was',\n",
              "   'conducted',\n",
              "   '.']]]"
            ]
          },
          "metadata": {},
          "execution_count": 39
        }
      ],
      "source": [
        "brown.paras()[:2] # first 2 paragraphs"
      ]
    },
    {
      "cell_type": "code",
      "execution_count": 40,
      "metadata": {
        "id": "CUlv45R6eHDj",
        "colab": {
          "base_uri": "https://localhost:8080/"
        },
        "outputId": "6da212f6-5855-4f7d-b62d-3e59bf4be92d"
      },
      "outputs": [
        {
          "output_type": "stream",
          "name": "stdout",
          "text": [
            "\n",
            "\n",
            "\tThe/at \n",
            "['The', 'Fulton', 'County', 'Grand', 'Jury', 'said', 'Friday', 'an', 'investigation', 'of']\n",
            "[['The', 'Fulton', 'County', 'Grand', 'Jury', 'said', 'Friday', 'an', 'investigation', 'of', \"Atlanta's\", 'recent', 'primary', 'election', 'produced', '``', 'no', 'evidence', \"''\", 'that', 'any', 'irregularities', 'took', 'place', '.'], ['The', 'jury', 'further', 'said', 'in', 'term-end', 'presentments', 'that', 'the', 'City', 'Executive', 'Committee', ',', 'which', 'had', 'over-all', 'charge', 'of', 'the', 'election', ',', '``', 'deserves', 'the', 'praise', 'and', 'thanks', 'of', 'the', 'City', 'of', 'Atlanta', \"''\", 'for', 'the', 'manner', 'in', 'which', 'the', 'election', 'was', 'conducted', '.']]\n",
            "[[['The', 'Fulton', 'County', 'Grand', 'Jury', 'said', 'Friday', 'an', 'investigation', 'of', \"Atlanta's\", 'recent', 'primary', 'election', 'produced', '``', 'no', 'evidence', \"''\", 'that', 'any', 'irregularities', 'took', 'place', '.']], [['The', 'jury', 'further', 'said', 'in', 'term-end', 'presentments', 'that', 'the', 'City', 'Executive', 'Committee', ',', 'which', 'had', 'over-all', 'charge', 'of', 'the', 'election', ',', '``', 'deserves', 'the', 'praise', 'and', 'thanks', 'of', 'the', 'City', 'of', 'Atlanta', \"''\", 'for', 'the', 'manner', 'in', 'which', 'the', 'election', 'was', 'conducted', '.']]]\n"
          ]
        }
      ],
      "source": [
        "print(brown.raw()[:10])\n",
        "print(brown.words()[:10])\n",
        "print(brown.sents()[:2])\n",
        "print(brown.paras()[:2])"
      ]
    },
    {
      "cell_type": "markdown",
      "metadata": {
        "id": "r9l8nU0eZwH2"
      },
      "source": [
        "\n",
        "\n",
        "##  Computing with Language: Simple Statistics\n",
        "Now, we pick up the question of what makes a text distinct, and use automatic methods to find characteristic words and expressions of a text."
      ]
    },
    {
      "cell_type": "markdown",
      "metadata": {
        "id": "HkzW0Wh9fNRM"
      },
      "source": [
        "### Frequency Distributions\n",
        "How can we automatically identify the words of a text that are most informative about the topic and genre of the text? \n",
        "\n",
        "Imagine how you might go about finding the 50 most frequent words of a book.\n",
        "\n",
        "Since we often need frequency distributions in language processing, NLTK provides built-in support for them. Let's use a ```FreqDist()``` to find the 50 most frequent words of Moby Dick:"
      ]
    },
    {
      "cell_type": "code",
      "execution_count": 41,
      "metadata": {
        "id": "b9FSqN-HhNZL",
        "colab": {
          "base_uri": "https://localhost:8080/"
        },
        "outputId": "1c78bda2-eabf-40f6-fadb-aaff47d47d4a"
      },
      "outputs": [
        {
          "output_type": "stream",
          "name": "stdout",
          "text": [
            "<FreqDist with 19317 samples and 260819 outcomes>\n"
          ]
        }
      ],
      "source": [
        "fdist1 = FreqDist(text1) \n",
        "print(fdist1) "
      ]
    },
    {
      "cell_type": "code",
      "execution_count": 42,
      "metadata": {
        "id": "EqNK27v-hQU0",
        "colab": {
          "base_uri": "https://localhost:8080/"
        },
        "outputId": "0aaac8d0-b85d-4abc-f6a0-035ef2d8da01"
      },
      "outputs": [
        {
          "output_type": "execute_result",
          "data": {
            "text/plain": [
              "[(',', 18713),\n",
              " ('the', 13721),\n",
              " ('.', 6862),\n",
              " ('of', 6536),\n",
              " ('and', 6024),\n",
              " ('a', 4569),\n",
              " ('to', 4542),\n",
              " (';', 4072),\n",
              " ('in', 3916),\n",
              " ('that', 2982)]"
            ]
          },
          "metadata": {},
          "execution_count": 42
        }
      ],
      "source": [
        "fdist1.most_common(10)"
      ]
    },
    {
      "cell_type": "markdown",
      "metadata": {
        "id": "PUqv8nr9-Zrf"
      },
      "source": [
        "To find the frequency of a particular word, you can can access it using the word string as index, the output of FreqDist is a dictionary."
      ]
    },
    {
      "cell_type": "code",
      "execution_count": 43,
      "metadata": {
        "id": "3q9XNu0LhVVw",
        "colab": {
          "base_uri": "https://localhost:8080/"
        },
        "outputId": "99646ed6-a33b-4d1f-a38a-0b85ae631a58"
      },
      "outputs": [
        {
          "output_type": "execute_result",
          "data": {
            "text/plain": [
              "906"
            ]
          },
          "metadata": {},
          "execution_count": 43
        }
      ],
      "source": [
        "fdist1['whale']"
      ]
    },
    {
      "cell_type": "markdown",
      "metadata": {
        "id": "zZXyqHN0hwX1"
      },
      "source": [
        "Your Turn: What are the top 20 tokens in text2. "
      ]
    },
    {
      "cell_type": "code",
      "execution_count": 44,
      "metadata": {
        "id": "PEXFhYl_iAxH",
        "colab": {
          "base_uri": "https://localhost:8080/"
        },
        "outputId": "61faa559-1153-4011-8e3a-059976950569"
      },
      "outputs": [
        {
          "output_type": "execute_result",
          "data": {
            "text/plain": [
              "[(',', 9397),\n",
              " ('to', 4063),\n",
              " ('.', 3975),\n",
              " ('the', 3861),\n",
              " ('of', 3565),\n",
              " ('and', 3350),\n",
              " ('her', 2436),\n",
              " ('a', 2043),\n",
              " ('I', 2004),\n",
              " ('in', 1904),\n",
              " ('was', 1846),\n",
              " ('it', 1568),\n",
              " ('\"', 1506),\n",
              " (';', 1419),\n",
              " ('she', 1333),\n",
              " ('be', 1305),\n",
              " ('that', 1297),\n",
              " ('for', 1234),\n",
              " ('not', 1212),\n",
              " ('as', 1179)]"
            ]
          },
          "metadata": {},
          "execution_count": 44
        }
      ],
      "source": [
        "# Your code goes here\n",
        "fdist2 = FreqDist(text2)\n",
        "fdist2.most_common(20)"
      ]
    },
    {
      "cell_type": "markdown",
      "metadata": {
        "id": "lhhLY9rp-vYH"
      },
      "source": [
        "Remember, we have calculated the frequencies in Lab 1 in pure Python."
      ]
    },
    {
      "cell_type": "markdown",
      "metadata": {
        "id": "roHngrruh-q1"
      },
      "source": [
        "Let's return to our task of finding words that characterize a text. \n",
        "\n",
        "Notice that the long words in *text4* reflect its national focus — constitutionally, transcontinental — whereas those in text5 reflect its informal content: boooooooooooglyyyyyy and yuuuuuuuuuuuummmmmmmmmmmm. \n",
        "\n",
        "Have we succeeded in automatically extracting words that typify a text? Well, these very long words are often hapaxes (i.e., unique) and perhaps it would be better to find frequently occurring long words. \n",
        "\n",
        "This seems promising since it eliminates frequent short words (e.g., the) and infrequent long words (e.g. antiphilosophists). \n",
        "\n",
        "Here are all words from the chat corpus that are longer than seven characters, that occur more than seven times:\n",
        "\n",
        " "
      ]
    },
    {
      "cell_type": "code",
      "execution_count": 45,
      "metadata": {
        "id": "8ZHgV0oojPR6",
        "colab": {
          "base_uri": "https://localhost:8080/"
        },
        "outputId": "7e536c4b-d357-43ab-e3e8-06321ea11fce"
      },
      "outputs": [
        {
          "output_type": "execute_result",
          "data": {
            "text/plain": [
              "['#14-19teens',\n",
              " '#talkcity_adults',\n",
              " '((((((((((',\n",
              " '........',\n",
              " 'Question',\n",
              " 'actually',\n",
              " 'anything',\n",
              " 'computer',\n",
              " 'cute.-ass',\n",
              " 'everyone',\n",
              " 'football',\n",
              " 'innocent',\n",
              " 'listening',\n",
              " 'remember',\n",
              " 'seriously',\n",
              " 'something',\n",
              " 'together',\n",
              " 'tomorrow',\n",
              " 'watching']"
            ]
          },
          "metadata": {},
          "execution_count": 45
        }
      ],
      "source": [
        "fdist5 = FreqDist(text5)\n",
        "sorted(w for w in set(text5) if len(w) > 7 and fdist5[w] > 7)"
      ]
    },
    {
      "cell_type": "markdown",
      "metadata": {
        "id": "mb7zYrIqjQB4"
      },
      "source": [
        "###   Counting Other Things\n",
        "Counting words is useful, but we can count other things too. For example, we can look at the distribution of word lengths in a text, by creating a ```FreqDist``` out of a long list of numbers, where each number is the length of the corresponding word in the text:\n",
        "\n"
      ]
    },
    {
      "cell_type": "code",
      "execution_count": 47,
      "metadata": {
        "id": "KWv7VRzNjbgJ",
        "colab": {
          "base_uri": "https://localhost:8080/"
        },
        "outputId": "d6acbae1-32f7-436c-c8d2-1432e4bfc063"
      },
      "outputs": [
        {
          "output_type": "execute_result",
          "data": {
            "text/plain": [
              "[1, 4, 4, 2, 6]"
            ]
          },
          "metadata": {},
          "execution_count": 47
        }
      ],
      "source": [
        "[len(w) for w in text1][:5]"
      ]
    },
    {
      "cell_type": "code",
      "execution_count": 48,
      "metadata": {
        "id": "XRkt4uO5jemD",
        "colab": {
          "base_uri": "https://localhost:8080/"
        },
        "outputId": "fce2861e-56de-483a-9c16-a7c5e37d701a"
      },
      "outputs": [
        {
          "output_type": "execute_result",
          "data": {
            "text/plain": [
              "FreqDist({3: 50223, 1: 47933, 4: 42345, 2: 38513, 5: 26597, 6: 17111, 7: 14399, 8: 9966, 9: 6428, 10: 3528, ...})"
            ]
          },
          "metadata": {},
          "execution_count": 48
        }
      ],
      "source": [
        "fdist = FreqDist(len(w) for w in text1)\n",
        "fdist"
      ]
    },
    {
      "cell_type": "code",
      "execution_count": 49,
      "metadata": {
        "id": "NMDqZkk45l3H",
        "colab": {
          "base_uri": "https://localhost:8080/"
        },
        "outputId": "b74a94a1-a3be-43d7-89e9-620e9ab4e953"
      },
      "outputs": [
        {
          "output_type": "execute_result",
          "data": {
            "text/plain": [
              "['uninterpenetratingly']"
            ]
          },
          "metadata": {},
          "execution_count": 49
        }
      ],
      "source": [
        "[w for w in text1 if len(w) == 20]"
      ]
    },
    {
      "cell_type": "markdown",
      "metadata": {
        "id": "aeXzRBNGjbmh"
      },
      "source": [
        "The result is a distribution containing a quarter of a million items, each of which is a number corresponding to a word token in the text. But there are at most only 20 distinct items being counted, the numbers 1 through 20, because there are only 20 different word lengths. I.e., there are words consisting of just one character, two characters, ..., twenty characters, but none with twenty one or more characters. \n",
        "\n",
        "\n",
        "One might wonder how frequent the different lengths of word are (e.g., how many words of length four appear in the text, are there more words of length five than length four, etc). We can do this as follows:\n"
      ]
    },
    {
      "cell_type": "code",
      "execution_count": 50,
      "metadata": {
        "id": "hdGQEJ93jt9O",
        "colab": {
          "base_uri": "https://localhost:8080/"
        },
        "outputId": "3d655802-a9f1-4fb4-aca8-ddf25b232a07"
      },
      "outputs": [
        {
          "output_type": "execute_result",
          "data": {
            "text/plain": [
              "[(3, 50223), (1, 47933), (4, 42345), (2, 38513), (5, 26597)]"
            ]
          },
          "metadata": {},
          "execution_count": 50
        }
      ],
      "source": [
        "fdist.most_common(n=5)"
      ]
    },
    {
      "cell_type": "code",
      "execution_count": 51,
      "metadata": {
        "id": "Bh7iS5pzjuEx",
        "colab": {
          "base_uri": "https://localhost:8080/"
        },
        "outputId": "9b7d01c1-b881-403c-94a7-bfb45b2cb188"
      },
      "outputs": [
        {
          "output_type": "execute_result",
          "data": {
            "text/plain": [
              "3"
            ]
          },
          "metadata": {},
          "execution_count": 51
        }
      ],
      "source": [
        "fdist.max()"
      ]
    },
    {
      "cell_type": "code",
      "execution_count": 52,
      "metadata": {
        "id": "DZMPLEcUj3D5",
        "colab": {
          "base_uri": "https://localhost:8080/"
        },
        "outputId": "79d913f6-9b6d-4f5d-cb66-3c83527943a6"
      },
      "outputs": [
        {
          "output_type": "execute_result",
          "data": {
            "text/plain": [
              "FreqDist({3: 50223, 1: 47933, 4: 42345, 2: 38513, 5: 26597, 6: 17111, 7: 14399, 8: 9966, 9: 6428, 10: 3528, ...})"
            ]
          },
          "metadata": {},
          "execution_count": 52
        }
      ],
      "source": [
        "fdist"
      ]
    },
    {
      "cell_type": "code",
      "execution_count": 53,
      "metadata": {
        "id": "xbx6aM4IjuNY",
        "colab": {
          "base_uri": "https://localhost:8080/"
        },
        "outputId": "c77e8b61-dd0d-449e-8885-20480f0fa7d8"
      },
      "outputs": [
        {
          "output_type": "execute_result",
          "data": {
            "text/plain": [
              "0.19255882431878046"
            ]
          },
          "metadata": {},
          "execution_count": 53
        }
      ],
      "source": [
        "fdist.freq(3)"
      ]
    },
    {
      "cell_type": "markdown",
      "metadata": {
        "id": "53UO61kejuqu"
      },
      "source": [
        "From this we see that the most frequent word length is 3, and that words of length 3 account for roughly 50,000 (or 20%) of the words making up the book. \n",
        "\n",
        "\n",
        "Although we will not pursue it here, further analysis of word length might help us understand differences between authors, genres, or languages.\n",
        "\n",
        "### Functions Defined for NLTK's Frequency Distributions\n",
        "\n",
        "Example |\tDescription\n",
        "--- | ---\n",
        "`fdist = FreqDist(samples)` |\tcreate a frequency distribution containing the given samples\n",
        "`fdist[sample] += 1`\t| increment the count for this sample\n",
        "`fdist['monstrous']`\t| count of the number of times a given sample occurred\n",
        "`fdist.freq('monstrous')`\t| frequency of a given sample\n",
        "`fdist.N()`\t| total number of samples\n",
        "`fdist.most_common(n)`\t| the n most common samples and their frequencies\n",
        "`for sample in fdist:`\t| iterate over the samples\n",
        "`fdist.max()`\t| sample with the greatest count\n",
        "`fdist.tabulate()`\t| tabulate the frequency distribution\n",
        "`fdist.plot()`\t| graphical plot of the frequency distribution\n",
        "`fdist.plot(cumulative=True)`\t| cumulative plot of the frequency distribution\n",
        "`fdist1 \\|= fdist2`\t| update fdist1 with counts from fdist2\n",
        "`fdist1 < fdist2`\t| test if samples in fdist1 occur less frequently than in fdist2\n"
      ]
    },
    {
      "cell_type": "markdown",
      "metadata": {
        "id": "EP4w0KU0koAb"
      },
      "source": [
        "###   Exercise 1\n",
        "\n",
        "a. How many words are there in text2? How many distinct words are there?"
      ]
    },
    {
      "cell_type": "code",
      "execution_count": 54,
      "metadata": {
        "id": "bv38eBjJkoMY",
        "colab": {
          "base_uri": "https://localhost:8080/"
        },
        "outputId": "120d4f5e-2ccc-4668-bcd8-fb45730bf94e"
      },
      "outputs": [
        {
          "output_type": "stream",
          "name": "stdout",
          "text": [
            "There are 141576 words in text2\n",
            "There are 6833 distinct words in text2\n"
          ]
        }
      ],
      "source": [
        "# Your code goes here\n",
        "print(\"There are {} words in text2\".format(len(text2)))\n",
        "print(\"There are {} distinct words in text2\".format(len(set(text2))))"
      ]
    },
    {
      "cell_type": "markdown",
      "metadata": {
        "id": "x2KPIzh6k4Pa"
      },
      "source": [
        "b. Compare the lexical diversity scores for humour (text6) and romance fiction (text2). Which genre is more lexically diverse?"
      ]
    },
    {
      "cell_type": "code",
      "execution_count": 58,
      "metadata": {
        "id": "rQ7cPaR4lBWf",
        "colab": {
          "base_uri": "https://localhost:8080/"
        },
        "outputId": "db37fa2f-dbfc-479a-a9aa-028db9311e54"
      },
      "outputs": [
        {
          "output_type": "stream",
          "name": "stdout",
          "text": [
            "The lexical diversity of text6 (humour) is 0.1276595744680851\n",
            "The lexical diversity of text2 (romance) is 0.04826383002768831\n"
          ]
        }
      ],
      "source": [
        "# Your code goes here\n",
        "print(\"The lexical diversity of text6 (humour) is {}\".format(lexical_diversity(text6)))\n",
        "print(\"The lexical diversity of text2 (romance) is {}\".format(lexical_diversity(text2)))"
      ]
    },
    {
      "cell_type": "markdown",
      "metadata": {
        "id": "z2x9VjyflEOk"
      },
      "source": [
        "c. Produce a dispersion plot of the four main protagonists in Sense and Sensibility: Elinor, Marianne, Edward, and Willoughby. What can you observe about the different roles played by the males and females in this novel? Can you identify the couples?"
      ]
    },
    {
      "cell_type": "code",
      "execution_count": 59,
      "metadata": {
        "id": "vTBH5MbVlN_f",
        "colab": {
          "base_uri": "https://localhost:8080/",
          "height": 295
        },
        "outputId": "7f6b1f58-541c-42d6-94fd-be60b2a577ce"
      },
      "outputs": [
        {
          "output_type": "display_data",
          "data": {
            "text/plain": [
              "<Figure size 432x288 with 1 Axes>"
            ],
            "image/png": "[encoded data removed]"
          },
          "metadata": {
            "needs_background": "light"
          }
        }
      ],
      "source": [
        "# Your code goes here\n",
        "text2.dispersion_plot([\"Elinor\", \"Edward\", \"Marianne\", \"Willoughby\"])"
      ]
    },
    {
      "cell_type": "markdown",
      "metadata": {
        "id": "jngeLZ3blPIv"
      },
      "source": [
        "d. The first sentence of text3 is provided to you in the variable sent3. The index of *the* in sent3 is 1, because sent3[1] gives us 'the'. What are the indexes of the two other occurrences of this word in sent3?"
      ]
    },
    {
      "cell_type": "code",
      "execution_count": 60,
      "metadata": {
        "id": "r9NdXtTJhvLZ",
        "colab": {
          "base_uri": "https://localhost:8080/"
        },
        "outputId": "f835c8f9-6683-4e1b-eb6d-6c4322d4b32b"
      },
      "outputs": [
        {
          "output_type": "stream",
          "name": "stdout",
          "text": [
            "['In', 'the', 'beginning', 'God', 'created', 'the', 'heaven', 'and', 'the', 'earth', '.']\n",
            "[1, 5, 8]\n"
          ]
        }
      ],
      "source": [
        "# Your code goes here\n",
        "print(sent3)\n",
        "print([idx for idx, word in enumerate(sent3) if word == 'the'])"
      ]
    },
    {
      "cell_type": "markdown",
      "metadata": {
        "id": "wscx1RDhlubI"
      },
      "source": [
        "e. Find all the four-letter words in the Chat Corpus (text5). With the help of a frequency distribution (FreqDist), show these words in decreasing order of frequency.\n",
        "\n"
      ]
    },
    {
      "cell_type": "code",
      "execution_count": 62,
      "metadata": {
        "id": "_ht2hQt31MoT",
        "colab": {
          "base_uri": "https://localhost:8080/"
        },
        "outputId": "7d6cb833-e90b-412a-dd36-15e769868484"
      },
      "outputs": [
        {
          "output_type": "execute_result",
          "data": {
            "text/plain": [
              "[('part', 1022),\n",
              " ('join', 1021),\n",
              " ('that', 284),\n",
              " ('what', 201),\n",
              " ('here', 185),\n",
              " ('have', 171),\n",
              " ('like', 160),\n",
              " ('with', 154),\n",
              " ('chat', 146),\n",
              " ('your', 142)]"
            ]
          },
          "metadata": {},
          "execution_count": 62
        }
      ],
      "source": [
        "# Your code goes here\n",
        "import re\n",
        "fd = FreqDist(w.lower() for w in text5 \n",
        "              if len(w)==4 and re.match(r\"[a-zA-Z]{4}\", w))\n",
        "fd.most_common(10)"
      ]
    },
    {
      "cell_type": "markdown",
      "metadata": {
        "id": "grtzZehc1NId"
      },
      "source": [
        "f. Print all the uppercase words in Monty Python and the Holy Grail (text6)?"
      ]
    },
    {
      "cell_type": "code",
      "execution_count": 64,
      "metadata": {
        "id": "VwNmCCfD1hP_",
        "colab": {
          "base_uri": "https://localhost:8080/"
        },
        "outputId": "3bed9b9c-2fbf-4f53-96cf-18a48a984cd2"
      },
      "outputs": [
        {
          "output_type": "execute_result",
          "data": {
            "text/plain": [
              "['SCENE',\n",
              " 'KING',\n",
              " 'ARTHUR',\n",
              " 'SOLDIER',\n",
              " 'ARTHUR',\n",
              " 'I',\n",
              " 'SOLDIER',\n",
              " 'ARTHUR',\n",
              " 'I',\n",
              " 'I']"
            ]
          },
          "metadata": {},
          "execution_count": 64
        }
      ],
      "source": [
        "# Your code goes here\n",
        "[word for word in text6.tokens if word.isupper()][:10]"
      ]
    },
    {
      "cell_type": "markdown",
      "metadata": {
        "id": "Re8IH7NG1hpT"
      },
      "source": [
        "g. Write expressions for finding all words in text6 that meet the conditions listed below. The result should be in the form of a list of words\n",
        "\n",
        "* Ending in ise\n",
        "* Containing the letter z\n",
        "* Containing the sequence of letters pt\n",
        "* Having all lowercase letters except for an initial capital (i.e., titlecase)\n"
      ]
    },
    {
      "cell_type": "code",
      "execution_count": 67,
      "metadata": {
        "id": "qs0LYav51yWI",
        "colab": {
          "base_uri": "https://localhost:8080/"
        },
        "outputId": "79999751-452e-47e2-bddc-3ad7f5e649ac"
      },
      "outputs": [
        {
          "output_type": "stream",
          "name": "stdout",
          "text": [
            "['wise', 'wise', 'apologise', 'surprise', 'surprise', 'surprise', 'noise', 'surprise']\n",
            "['zone', 'amazes', 'Fetchez', 'Fetchez', 'zoop', 'zoo', 'zhiv', 'frozen', 'zoosh']\n",
            "['empty', 'aptly', 'Thpppppt', 'Thppt', 'Thppt', 'empty', 'Thppppt', 'temptress', 'temptation', 'ptoo']\n",
            "['Whoa', 'Halt', 'Who', 'It', 'I', 'Arthur', 'Uther', 'Pendragon', 'Camelot', 'King']\n"
          ]
        }
      ],
      "source": [
        "# Your code goes here\n",
        "\n",
        "# Ending in ise\n",
        "print([word for word in text6.tokens if word[-3:] == 'ise'])\n",
        "\n",
        "# Containing the letter z\n",
        "print([word for word in text6.tokens if 'z' in word])\n",
        "\n",
        "# Containing the sequence of letters pt\n",
        "print([word for word in text6.tokens if 'pt' in word][:10])\n",
        "\n",
        "# Having all lowercase letters except for an initial capital (i.e., titlecase)\n",
        "print([word for word in text6.tokens if word.istitle()][:10])"
      ]
    },
    {
      "cell_type": "markdown",
      "metadata": {
        "id": "osQr8oNSKqlz"
      },
      "source": [
        "## Corpora"
      ]
    },
    {
      "cell_type": "markdown",
      "metadata": {
        "id": "IpzAfV6C1yve"
      },
      "source": [
        "Practical work in Natural Language Processing typically uses large bodies of linguistic data, or corpora.\n",
        "\n",
        "### Accessing Text Corpora\n",
        "A text corpus is a large body of text. Many corpora are designed to contain a careful balance of material in one or more genres. \n",
        "\n",
        "We look at various pre-defined texts that we accessed by typing ```from nltk.book import *```. However, since we want to be able to work with other texts, we now examine a variety of text corpora. \n",
        "\n",
        "NLTK provides access to a number of well known Corpora as well as allows us to build our own. We will examine the Corpora that are made availabe to us first."
      ]
    },
    {
      "cell_type": "markdown",
      "metadata": {
        "id": "0YI1yhqsEEDz"
      },
      "source": [
        "**Gutenberg Corpus**\n",
        "\n",
        "NLTK includes a small selection of texts from the Project Gutenberg electronic text archive, which contains some 25,000 free electronic books, hosted at http://www.gutenberg.org/. which can be accessed as follows"
      ]
    },
    {
      "cell_type": "code",
      "execution_count": 69,
      "metadata": {
        "id": "sg5UIaYwEUE0"
      },
      "outputs": [],
      "source": [
        "from nltk.corpus import gutenberg"
      ]
    },
    {
      "cell_type": "markdown",
      "metadata": {
        "id": "1n1aChZbEkSz"
      },
      "source": [
        "we can find the list of ducuments included in this corpus as follows:"
      ]
    },
    {
      "cell_type": "code",
      "execution_count": 70,
      "metadata": {
        "colab": {
          "base_uri": "https://localhost:8080/"
        },
        "id": "erLZKZYFEsJR",
        "outputId": "c8930f69-5249-43fc-845d-a7dddc068b29"
      },
      "outputs": [
        {
          "output_type": "execute_result",
          "data": {
            "text/plain": [
              "['austen-emma.txt',\n",
              " 'austen-persuasion.txt',\n",
              " 'austen-sense.txt',\n",
              " 'bible-kjv.txt',\n",
              " 'blake-poems.txt',\n",
              " 'bryant-stories.txt',\n",
              " 'burgess-busterbrown.txt',\n",
              " 'carroll-alice.txt',\n",
              " 'chesterton-ball.txt',\n",
              " 'chesterton-brown.txt',\n",
              " 'chesterton-thursday.txt',\n",
              " 'edgeworth-parents.txt',\n",
              " 'melville-moby_dick.txt',\n",
              " 'milton-paradise.txt',\n",
              " 'shakespeare-caesar.txt',\n",
              " 'shakespeare-hamlet.txt',\n",
              " 'shakespeare-macbeth.txt',\n",
              " 'whitman-leaves.txt']"
            ]
          },
          "metadata": {},
          "execution_count": 70
        }
      ],
      "source": [
        "gutenberg.fileids()"
      ]
    },
    {
      "cell_type": "code",
      "execution_count": 71,
      "metadata": {
        "colab": {
          "base_uri": "https://localhost:8080/"
        },
        "id": "gMEAgM_tHwPo",
        "outputId": "cc86f2b3-985c-4419-b3b3-4059d2da6ea1"
      },
      "outputs": [
        {
          "output_type": "stream",
          "name": "stdout",
          "text": [
            "<class 'nltk.corpus.reader.plaintext.PlaintextCorpusReader'>\n"
          ]
        }
      ],
      "source": [
        "print(type(gutenberg))"
      ]
    },
    {
      "cell_type": "markdown",
      "metadata": {
        "id": "xn9QnAtCF83O"
      },
      "source": [
        "The Corpus is an instance of the class ```PlaintextCorpusReader```\n",
        "\n",
        "To be able to use the ```concordance``` method we saw earlier, we need to load the words as a ```Text``` object as follows:"
      ]
    },
    {
      "cell_type": "code",
      "execution_count": 72,
      "metadata": {
        "id": "iLk96d4WF7jA"
      },
      "outputs": [],
      "source": [
        "emma = gutenberg.words(gutenberg.fileids()[0])\n",
        "emma_text = nltk.Text(emma)"
      ]
    },
    {
      "cell_type": "code",
      "execution_count": 73,
      "metadata": {
        "id": "OsrZKu6eFoGF",
        "colab": {
          "base_uri": "https://localhost:8080/"
        },
        "outputId": "b522ccc3-5d50-4c5a-8e5c-2fb10ababdef"
      },
      "outputs": [
        {
          "output_type": "stream",
          "name": "stdout",
          "text": [
            "Displaying 4 of 4 matches:\n",
            "st the right weather for him , fine , dry , settled weather . We shall enjoy hi\n",
            "never dusty , and now it is perfectly dry . Come on a donkey , however , if you\n",
            " friend . Under that peculiar sort of dry , blunt manner , I know you have the \n",
            "hat they ought to be . I hope it is a dry situation , and that her health will \n"
          ]
        }
      ],
      "source": [
        "emma_text.concordance(\"dry\")"
      ]
    },
    {
      "cell_type": "markdown",
      "metadata": {
        "id": "GR6jH-KgGw78"
      },
      "source": [
        "### Exercise 2\n",
        "\n",
        "Find the longest word in the file *chesterton-thursday.txt*"
      ]
    },
    {
      "cell_type": "code",
      "execution_count": 74,
      "metadata": {
        "id": "p2lrTMlXG_fD",
        "colab": {
          "base_uri": "https://localhost:8080/",
          "height": 35
        },
        "outputId": "d8dd6d1f-6ce7-4725-84fb-c509ed0d433d"
      },
      "outputs": [
        {
          "output_type": "execute_result",
          "data": {
            "text/plain": [
              "'undenominational'"
            ],
            "application/vnd.google.colaboratory.intrinsic+json": {
              "type": "string"
            }
          },
          "metadata": {},
          "execution_count": 74
        }
      ],
      "source": [
        "chesterton_thursday = gutenberg.words('chesterton-thursday.txt')\n",
        "longest = ''\n",
        "for word in chesterton_thursday:\n",
        "  if len(word) > len(longest):\n",
        "    longest = word\n",
        "longest"
      ]
    },
    {
      "cell_type": "markdown",
      "metadata": {
        "id": "-MWCxYnFHmlW"
      },
      "source": [
        "NLTK offers a number of of Corpora, worth mentioning are the following:\n",
        "\n",
        "package name | Corpus name \n",
        "--- | --- \n",
        "webtext | Web Text \n",
        "nps_chat | Instant messaging sessions \n",
        "brown | Brown Corpus \n",
        "reuters | Reuters Corpus \n",
        "inaugural | Inaugural Address Corpus \n",
        "\n",
        "\n"
      ]
    },
    {
      "cell_type": "markdown",
      "metadata": {
        "id": "8h0iYe-QLXUG"
      },
      "source": [
        "Summary of basic Corpus methods defined in NLTK\n",
        "\n",
        "Example\t| Description\n",
        "--- | ---\n",
        "`fileids()`\t| the files of the corpus\n",
        "`fileids([categories])`\t| the files of the corpus corresponding to these categories \n",
        "`categories()`\t| the categories of the corpus\n",
        "`categories([fileids])`\t| the categories of the corpus corresponding to these files\n",
        "`raw()`\t| the raw content of the corpus\n",
        "`raw(fileids=[f1,f2,f3]) `|\tthe raw content of the specified files\n",
        "`raw(categories=[c1,c2])` |\tthe raw content of the specified categories\n",
        "`words()`\t| the words of the whole corpus\n",
        "`words(fileids=[f1,f2,f3])` |\tthe words of the specified fileids\n",
        "`words(categories=[c1,c2])`|\tthe words of the specified categories\n",
        "`sents()`\t| the sentences of the whole corpus\n",
        "`sents(fileids=[f1,f2,f3])` |\tthe sentences of the specified fileids\n",
        "`sents(categories=[c1,c2])`\t| the sentences of the specified categories\n",
        "`abspath(fileid)`\t| the location of the given file on disk\n",
        "`encoding(fileid)`\t| the encoding of the file (if known)\n",
        "`open(fileid)`\t| open a stream for reading the given corpus file\n",
        "`root` |\tif the path to the root of locally installed corpus\n",
        "`readme()`\t| the contents of the README file of the corpus"
      ]
    },
    {
      "cell_type": "markdown",
      "metadata": {
        "id": "pFBoDWYOJsU4"
      },
      "source": [
        "NLTK's built in Corpora are good for learning the concepts, but eventually, we would like to operate on our own data. \n",
        "\n",
        "Text data in the wild comes in many formats including: plain text files, PDF, DOCX, html, json (twitter), etc.\n",
        "\n",
        "\n",
        "The Python ecosystem is rich with packages that makes it easy to access the different types of files and APIs. "
      ]
    },
    {
      "cell_type": "markdown",
      "metadata": {
        "id": "aMx4wapt3LWq"
      },
      "source": [
        "## Tokenization\n",
        "\n",
        "For analysis and further processing, we want to break up the string into words and punctuation. This step is called tokenization, and it produces our familiar structure, a list of words and punctuation.\n",
        "\n",
        "A sentence or data can be split into words using the method ```word_tokenize()```:"
      ]
    },
    {
      "cell_type": "code",
      "execution_count": 75,
      "metadata": {
        "colab": {
          "base_uri": "https://localhost:8080/"
        },
        "id": "86aP9BY2NtRl",
        "outputId": "368a81f1-63e4-432b-b6a6-9ac62e504044"
      },
      "outputs": [
        {
          "output_type": "stream",
          "name": "stdout",
          "text": [
            "['All', 'work', 'and', 'no', 'play', 'makes', 'jack', 'a', 'dull', 'boy', ',', 'all', 'work', 'and', 'no', 'play']\n"
          ]
        }
      ],
      "source": [
        "from nltk.tokenize import word_tokenize\n",
        "\n",
        "text = \"All work and no play makes jack a dull boy, all work and no play\"\n",
        "word_tokens = word_tokenize(text)\n",
        "print(word_tokens)"
      ]
    },
    {
      "cell_type": "code",
      "execution_count": 76,
      "metadata": {
        "id": "6e9TZtPnPd5t",
        "colab": {
          "base_uri": "https://localhost:8080/"
        },
        "outputId": "e269269e-9cd3-427b-88fc-235842ef75c3"
      },
      "outputs": [
        {
          "output_type": "execute_result",
          "data": {
            "text/plain": [
              "[('work', 2),\n",
              " ('and', 2),\n",
              " ('no', 2),\n",
              " ('play', 2),\n",
              " ('All', 1),\n",
              " ('makes', 1),\n",
              " ('jack', 1),\n",
              " ('a', 1),\n",
              " ('dull', 1),\n",
              " ('boy', 1),\n",
              " (',', 1),\n",
              " ('all', 1)]"
            ]
          },
          "metadata": {},
          "execution_count": 76
        }
      ],
      "source": [
        "word_text = nltk.Text(word_tokens)\n",
        "word_text.vocab().most_common(20)"
      ]
    },
    {
      "cell_type": "markdown",
      "metadata": {
        "id": "nx19Q3YUQ8tR"
      },
      "source": [
        "The same principle can be applied to sentences. Simply change the to\n",
        "```sent_tokenize()``` We have added two sentences to the variable data:"
      ]
    },
    {
      "cell_type": "code",
      "execution_count": 77,
      "metadata": {
        "id": "ZKZkCb4LRNPD",
        "colab": {
          "base_uri": "https://localhost:8080/"
        },
        "outputId": "1f599d02-b2f4-4312-dc47-1bf90575adf6"
      },
      "outputs": [
        {
          "output_type": "execute_result",
          "data": {
            "text/plain": [
              "['All work and no play makes jack dull boy.',\n",
              " 'All work and no play makes jack a dull boy.']"
            ]
          },
          "metadata": {},
          "execution_count": 77
        }
      ],
      "source": [
        "from nltk.tokenize import sent_tokenize, word_tokenize\n",
        "\n",
        "data = \"All work and no play makes jack dull boy. All work and no play makes jack a dull boy.\"\n",
        "sent_tokenize(data)"
      ]
    },
    {
      "cell_type": "markdown",
      "metadata": {
        "id": "feC19DXnNata"
      },
      "source": [
        "### Exercise 3\n",
        "\n",
        "What is the longest word in the provided article bellow? "
      ]
    },
    {
      "cell_type": "code",
      "execution_count": 78,
      "metadata": {
        "id": "3rdejqn5L96A",
        "colab": {
          "base_uri": "https://localhost:8080/"
        },
        "outputId": "da5e1561-8730-45f6-ee6c-1d38cdeab3a1"
      },
      "outputs": [
        {
          "output_type": "stream",
          "name": "stdout",
          "text": [
            "200\n",
            "<class 'str'>\n",
            "326986\n"
          ]
        }
      ],
      "source": [
        "# We grab the article HTML\n",
        "from urllib import request\n",
        "\n",
        "url = \"https://www.technologyreview.com/2021/03/17/1020811/better-tech-government-pandemic-united-states/\"\n",
        "\n",
        "response = request.urlopen(url)\n",
        "print(response.code)\n",
        "\n",
        "raw = response.read().decode('utf8')\n",
        "print(type(raw))\n",
        "print(len(raw))"
      ]
    },
    {
      "cell_type": "code",
      "execution_count": 79,
      "metadata": {
        "id": "fEfp-j3RT_zZ"
      },
      "outputs": [],
      "source": [
        "# Then we parse the response\n",
        "from bs4 import BeautifulSoup\n",
        "\n",
        "parsed_text = BeautifulSoup(raw, 'html.parser').get_text()"
      ]
    },
    {
      "cell_type": "code",
      "execution_count": 81,
      "metadata": {
        "id": "6HEafw3oUwBn",
        "colab": {
          "base_uri": "https://localhost:8080/",
          "height": 35
        },
        "outputId": "8c431641-1a54-4046-c109-0660343216ea"
      },
      "outputs": [
        {
          "output_type": "execute_result",
          "data": {
            "text/plain": [
              "'ReviewFeaturedTopicsNewslettersEventsPodcastsSign'"
            ],
            "application/vnd.google.colaboratory.intrinsic+json": {
              "type": "string"
            }
          },
          "metadata": {},
          "execution_count": 81
        }
      ],
      "source": [
        "# your code goes here, Hint: tokenize > cast as Text object > analyse\n",
        "\n",
        "def find_longest_word(tokens):\n",
        "  longest = ''\n",
        "  for token in tokens:\n",
        "    if len(token) > len(longest):\n",
        "      longest = token\n",
        "  return longest\n",
        "\n",
        "tokenized_text = word_tokenize(parsed_text)\n",
        "\n",
        "find_longest_word(tokenized_text)"
      ]
    },
    {
      "cell_type": "markdown",
      "metadata": {
        "id": "W9X1M2J03TIr"
      },
      "source": [
        "## Stop words\n",
        "English text may contain stop words like ‘the’, ‘is’, ‘are’. Stop words can be filtered from the text to be processed. There is no universal list of stop words in NLP research, however the NLTK module contains a list of stop words. Now you will learn how to remove stop words using the NLTK. \n",
        "\n",
        "We start with the code from the previous section with tokenized words.\n",
        "\n"
      ]
    },
    {
      "cell_type": "code",
      "execution_count": 83,
      "metadata": {
        "id": "FIJ7tTTRNN0t",
        "colab": {
          "base_uri": "https://localhost:8080/"
        },
        "outputId": "080d3244-d0b3-4aba-9fa1-d8704e34d362"
      },
      "outputs": [
        {
          "output_type": "stream",
          "name": "stdout",
          "text": [
            "['i', 'me', 'my', 'myself', 'we', 'our', 'ours', 'ourselves', 'you', \"you're\"]\n"
          ]
        }
      ],
      "source": [
        "from nltk.corpus import stopwords\n",
        "print(stopwords.words('english')[:10])"
      ]
    },
    {
      "cell_type": "code",
      "execution_count": 84,
      "metadata": {
        "id": "Jw4lYR7ESR6M",
        "colab": {
          "base_uri": "https://localhost:8080/"
        },
        "outputId": "faadfe08-e323-4c1a-e531-ee201e477d21"
      },
      "outputs": [
        {
          "output_type": "stream",
          "name": "stdout",
          "text": [
            "['work', 'play', 'makes', 'jack', 'dull', 'boy', '.', 'work', 'play', 'makes', 'jack', 'dull', 'boy', '.']\n"
          ]
        }
      ],
      "source": [
        "from nltk.tokenize import sent_tokenize, word_tokenize\n",
        "from nltk.corpus import stopwords # We imported auxiliary corpus provided with NLTK\n",
        "\n",
        "text = \"All work and no play makes jack dull boy. All work and no play makes jack a dull boy.\"\n",
        "\n",
        "stop_words = stopwords.words('english')\n",
        "\n",
        "words = word_tokenize(text.lower())\n",
        "\n",
        "words_filtered = [w for w in words if w not in stop_words]\n",
        "\n",
        "print(words_filtered) # Print the filtered text"
      ]
    },
    {
      "cell_type": "markdown",
      "metadata": {
        "id": "AeM2rusPTSb3"
      },
      "source": [
        "### Exercise 4\n",
        "\n",
        "using the variable from `parsed_text` from Exercise 3, find the most common 10 words before and after removing the stop words"
      ]
    },
    {
      "cell_type": "code",
      "execution_count": 86,
      "metadata": {
        "id": "YRd03-nVTopA",
        "colab": {
          "base_uri": "https://localhost:8080/"
        },
        "outputId": "ad071256-8ad0-43e8-9185-4985b601500c"
      },
      "outputs": [
        {
          "output_type": "stream",
          "name": "stdout",
          "text": [
            "['to', 'the', 'a', 'and', 'of', 'that', 'for', 's', 'in', 'it']\n",
            "['government', 'people', 'systems', 'new', 'system', 'technology', 'You', 'We', 'opens', 'Technology']\n"
          ]
        }
      ],
      "source": [
        "# Your code goes here\n",
        "tokenized_text = word_tokenize(parsed_text)\n",
        "tokenized_text = [word for word in tokenized_text if word.isalpha()]\n",
        "\n",
        "top10_words_before = FreqDist(tokenized_text).most_common(10)\n",
        "print([word for word, freq in top10_words_before]) # tuple unpacking\n",
        "\n",
        "tokenized_text_filtered = [word for word in tokenized_text if word not in stop_words]\n",
        "top10_words_after = FreqDist(tokenized_text_filtered).most_common(10)\n",
        "print([word for word, freq in top10_words_after])"
      ]
    },
    {
      "cell_type": "markdown",
      "metadata": {
        "id": "V0DYHrw3JZ9C"
      },
      "source": [
        "## Stemming\n"
      ]
    },
    {
      "cell_type": "markdown",
      "metadata": {
        "id": "5rdQ0NUbYTOa"
      },
      "source": [
        "Stemmers\n",
        "\n",
        "NLTK includes several off-the-shelf stemmers, and if you ever need a stemmer you should use one of these in preference to crafting your own using regular expressions, since these handle a wide range of irregular cases. The Porter and Lancaster stemmers follow their own rules for stripping affixes. \n",
        "\n",
        "Observe that the Porter stemmer correctly handles the word lying (mapping it to lie), while the Lancaster stemmer does not."
      ]
    },
    {
      "cell_type": "code",
      "execution_count": 93,
      "metadata": {
        "id": "NuG8dzPAUEEB",
        "colab": {
          "base_uri": "https://localhost:8080/"
        },
        "outputId": "09640b3f-a0aa-48da-8aa0-762cb4956e8f"
      },
      "outputs": [
        {
          "output_type": "stream",
          "name": "stdout",
          "text": [
            "denni : listen , strang women lie in pond distribut sword is no basi for a system of govern . suprem execut power deriv from a mandat from the mass , not from some farcic aquat ceremoni .\n"
          ]
        }
      ],
      "source": [
        "from nltk import PorterStemmer, LancasterStemmer\n",
        "\n",
        "porter = PorterStemmer()\n",
        "\n",
        "raw = \"\"\"DENNIS: Listen, strange women lying in ponds distributing swords\n",
        " is no basis for a system of government.  Supreme executive power derives from\n",
        " a mandate from the masses, not from some farcical aquatic ceremony.\"\"\"\n",
        "\n",
        "tokens = word_tokenize(raw)\n",
        "\n",
        "print(*[porter.stem(t) for t in tokens])"
      ]
    },
    {
      "cell_type": "code",
      "execution_count": 92,
      "metadata": {
        "id": "oqzIlLjoUXbU",
        "colab": {
          "base_uri": "https://localhost:8080/"
        },
        "outputId": "5a661879-4ef6-42c3-dc8b-0a422ac2932e"
      },
      "outputs": [
        {
          "output_type": "stream",
          "name": "stdout",
          "text": [
            "den : list , strange wom lying in pond distribut sword is no bas for a system of govern . suprem execut pow der from a mand from the mass , not from som farc aqu ceremony .\n"
          ]
        }
      ],
      "source": [
        "lancaster = LancasterStemmer()\n",
        "\n",
        "print(*[lancaster.stem(t) for t in tokens])"
      ]
    },
    {
      "cell_type": "markdown",
      "metadata": {
        "id": "Dra2Jw0xUEz7"
      },
      "source": [
        "Stemming is not a well-defined process, and we typically pick the stemmer that best suits the application we have in mind. \n",
        "\n",
        "**NOTE:**\n",
        "Stemming is an important step for traditional statistical machine learning systems, however for deep learning based methods, stemming is not used.\n"
      ]
    },
    {
      "cell_type": "markdown",
      "metadata": {
        "id": "3hiV2YEaKeMX"
      },
      "source": [
        "## Lemmatization"
      ]
    },
    {
      "cell_type": "markdown",
      "metadata": {
        "id": "1N-qEAvMYXNN"
      },
      "source": [
        "The WordNet lemmatizer only removes affixes if the resulting word is in its dictionary. This additional checking process makes the lemmatizer slower than the above stemmers. Notice that it doesn't handle lying, but it converts women to woman."
      ]
    },
    {
      "cell_type": "code",
      "execution_count": 95,
      "metadata": {
        "id": "SW-xDzkjWeyF",
        "colab": {
          "base_uri": "https://localhost:8080/"
        },
        "outputId": "37117315-cb28-4cc3-acb5-d93ef5283dd4"
      },
      "outputs": [
        {
          "output_type": "stream",
          "name": "stdout",
          "text": [
            "DENNIS : Listen , strange woman lying in pond distributing sword is no basis for a system of government . Supreme executive power derives from a mandate from the mass , not from some farcical aquatic ceremony .\n"
          ]
        }
      ],
      "source": [
        "wnl = nltk.WordNetLemmatizer()\n",
        "print(*[wnl.lemmatize(t) for t in tokens])"
      ]
    },
    {
      "cell_type": "markdown",
      "metadata": {
        "id": "0D_VMczyWh1h"
      },
      "source": [
        "Compare the results of stemming and lemmatization."
      ]
    },
    {
      "cell_type": "markdown",
      "metadata": {
        "id": "9bn75rgXW6d4"
      },
      "source": [
        "### Exercise 5"
      ]
    },
    {
      "cell_type": "markdown",
      "metadata": {
        "id": "0UUNd-k5KhQm"
      },
      "source": [
        "Read the gutenberg Corpus, tokenize it, and print the list of all wh-word types that occur. (wh-words in English are used in questions, relative clauses and exclamations: who, which, what, and so on.) Print them in order. Are any words duplicated in this list, because of the presence of case distinctions or punctuation?"
      ]
    },
    {
      "cell_type": "code",
      "execution_count": 97,
      "metadata": {
        "colab": {
          "base_uri": "https://localhost:8080/"
        },
        "id": "HZ6iFD2mgkdB",
        "outputId": "e7317f9d-f5e5-407c-a0b6-183265aa5933"
      },
      "outputs": [
        {
          "output_type": "stream",
          "name": "stdout",
          "text": [
            "['Who', 'Who', 'Who', 'Who', 'when', 'which', 'when', 'When', 'what', 'who']\n"
          ]
        }
      ],
      "source": [
        "# You code goes here\n",
        "# I picked bryant-stories.txt\n",
        "wh_words = ['why', 'who', 'which', 'what', 'where', 'when', 'how']\n",
        "tokens = gutenberg.words('bryant-stories.txt')\n",
        "wh_tokens = [token for token in tokens if token.lower() in wh_words]\n",
        "print(wh_tokens[:10])"
      ]
    },
    {
      "cell_type": "markdown",
      "metadata": {
        "id": "PeufdO9c2zHC"
      },
      "source": [
        "# Spacy - NLP in production\n",
        "\n",
        "SpaCy is another open-source library for Natural Language Processing (NLP) in Python.\n",
        "\n",
        "spaCy is designed specifically for production (not for learning the concepts) use and helps you build applications that process and “understand” large volumes of text.\n",
        "\n",
        "The way tokenization is handled in Spacy is summerized in the following diagram:\n",
        "\n",
        "![](https://spacy.io/tokenization-9b27c0f6fe98dcb26239eba4d3ba1f3d.svg)"
      ]
    },
    {
      "cell_type": "code",
      "execution_count": null,
      "metadata": {
        "id": "nncZ9J_ZkWG2"
      },
      "outputs": [],
      "source": [
        "# upgrade spacy to the latest version\n",
        "!pip install -U pip setuptools wheel\n",
        "!pip install -U spacy\n",
        "!python -m spacy download en_core_web_sm"
      ]
    },
    {
      "cell_type": "code",
      "execution_count": 99,
      "metadata": {
        "id": "AJfwYlYdh4vI",
        "colab": {
          "base_uri": "https://localhost:8080/"
        },
        "outputId": "f7edb78d-1151-4798-a1c2-af261d3634bf"
      },
      "outputs": [
        {
          "output_type": "stream",
          "name": "stderr",
          "text": [
            "/usr/local/lib/python3.9/dist-packages/torch/cuda/__init__.py:497: UserWarning: Can't initialize NVML\n",
            "  warnings.warn(\"Can't initialize NVML\")\n"
          ]
        },
        {
          "output_type": "stream",
          "name": "stdout",
          "text": [
            "['Apple', 'is', \"n't\", 'looking', 'at', 'buying', 'U.K.', 'startup', 'for', '$', '1', 'billion']\n"
          ]
        }
      ],
      "source": [
        "import spacy\n",
        "\n",
        "nlp = spacy.load(\"en_core_web_sm\")\n",
        "doc = nlp(\"Apple isn't looking at buying U.K. startup for $1 billion\")\n",
        "print([token.text for token in doc])"
      ]
    },
    {
      "cell_type": "markdown",
      "metadata": {
        "id": "-HgQvF-SkC93"
      },
      "source": [
        "Lemmatization in Spacy"
      ]
    },
    {
      "cell_type": "code",
      "execution_count": 100,
      "metadata": {
        "id": "orx3qdrbkBvA",
        "colab": {
          "base_uri": "https://localhost:8080/"
        },
        "outputId": "83619266-e8be-439c-b4ab-c34f36a5cacf"
      },
      "outputs": [
        {
          "output_type": "stream",
          "name": "stdout",
          "text": [
            "['Apple', 'be', 'not', 'look', 'at', 'buy', 'U.K.', 'startup', 'for', '$', '1', 'billion']\n"
          ]
        }
      ],
      "source": [
        "print([token.lemma_ for token in doc])"
      ]
    },
    {
      "cell_type": "markdown",
      "metadata": {
        "id": "Nta_Rb2rmzBS"
      },
      "source": [
        "Notice the difference between the tokens and lemmas!"
      ]
    },
    {
      "cell_type": "markdown",
      "metadata": {
        "id": "bNAlp_Nuymjc"
      },
      "source": [
        "# WordClouds\n",
        "\n",
        "Word clouds are a visualization technique which represent the frequency or the importance of each word. "
      ]
    },
    {
      "cell_type": "code",
      "execution_count": null,
      "metadata": {
        "id": "3ZHqvYY-ysDW"
      },
      "outputs": [],
      "source": [
        "!pip install wordcloud"
      ]
    },
    {
      "cell_type": "code",
      "execution_count": 108,
      "metadata": {
        "id": "s6Qst4m5ywTh",
        "colab": {
          "base_uri": "https://localhost:8080/",
          "height": 198
        },
        "outputId": "7a056d72-4bd4-4508-b2c1-d0369e27cd82"
      },
      "outputs": [
        {
          "output_type": "display_data",
          "data": {
            "text/plain": [
              "<Figure size 432x288 with 1 Axes>"
            ],
            "image/png": "[encoded data removed]"
          },
          "metadata": {
            "needs_background": "light"
          }
        }
      ],
      "source": [
        "from wordcloud import WordCloud, STOPWORDS, ImageColorGenerator\n",
        "from matplotlib import pyplot as plt\n",
        "\n",
        "\n",
        "test_corpus2 = \" \".join(text1.tokens)\n",
        "\n",
        "\n",
        "wordcloud = WordCloud(stopwords=STOPWORDS, background_color=\"black\").generate(test_corpus2)\n",
        "\n",
        "plt.imshow(wordcloud, interpolation='bilinear')\n",
        "plt.axis(\"off\")\n",
        "plt.show()"
      ]
    },
    {
      "cell_type": "markdown",
      "metadata": {
        "id": "iLhszjThlgDL"
      },
      "source": [
        "### Exercise 6\n",
        "\n",
        "Generate a word cloud for the book at https://www.gutenberg.org/cache/epub/19017/pg19017.txt \n"
      ]
    },
    {
      "cell_type": "code",
      "execution_count": 109,
      "metadata": {
        "id": "UV2lHjajl713",
        "colab": {
          "base_uri": "https://localhost:8080/",
          "height": 198
        },
        "outputId": "042a4609-52c9-41d0-9f91-bce19f76e733"
      },
      "outputs": [
        {
          "output_type": "display_data",
          "data": {
            "text/plain": [
              "<Figure size 432x288 with 1 Axes>"
            ],
            "image/png": "[encoded data removed]"
          },
          "metadata": {
            "needs_background": "light"
          }
        }
      ],
      "source": [
        "# Your code goes here\n",
        "import urllib.request  \n",
        "import re\n",
        "\n",
        "# step 1: download the book as text\n",
        "book_url = \"https://www.gutenberg.org/cache/epub/19017/pg19017.txt\"\n",
        "\n",
        "with urllib.request.urlopen(book_url) as f:\n",
        "   book = f.read().decode('utf-8').lower()\n",
        "\n",
        "# step 2: tokenize and remove the irrelevant parts of the text\n",
        "book = [word for word in word_tokenize(book) if word.isalpha()]\n",
        "\n",
        "\n",
        "# step 3: generate and plot wordcloud \n",
        "wordcloud = WordCloud(stopwords=STOPWORDS, background_color=\"white\")\n",
        "wordcloud = wordcloud.generate(' '.join(book))\n",
        "\n",
        "plt.imshow(wordcloud, interpolation='bilinear')\n",
        "plt.axis(\"off\")\n",
        "plt.show()"
      ]
    }
  ],
  "metadata": {
    "colab": {
      "provenance": [],
      "toc_visible": true,
      "include_colab_link": true
    },
    "kernelspec": {
      "display_name": "Python 3",
      "name": "python3"
    }
  },
  "nbformat": 4,
  "nbformat_minor": 0
}
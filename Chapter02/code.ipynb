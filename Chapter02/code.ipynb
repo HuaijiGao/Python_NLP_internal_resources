{
  "nbformat": 4,
  "nbformat_minor": 0,
  "metadata": {
    "colab": {
      "provenance": [],
      "collapsed_sections": [
        "GTzkb5z6tVl9",
        "Mh3mUKwYOZ3F",
        "fo4KyNiZSh0z",
        "wHfLkDU2TQav"
      ],
      "toc_visible": true,
      "include_colab_link": true
    },
    "kernelspec": {
      "name": "python3",
      "display_name": "Python 3"
    }
  },
  "cells": [
    {
      "cell_type": "markdown",
      "metadata": {
        "id": "view-in-github",
        "colab_type": "text"
      },
      "source": [
        "<a href=\"https://colab.research.google.com/github/JefoGao/Resource_NLP-in-Python/blob/main/Chapter02/code.ipynb\" target=\"_parent\"><img src=\"https://colab.research.google.com/assets/colab-badge.svg\" alt=\"Open In Colab\"/></a>"
      ]
    },
    {
      "cell_type": "markdown",
      "metadata": {
        "id": "RI3R8NV2eJpB"
      },
      "source": [
        "# Strings and Python\n",
        "Textual data in Python is handled with str objects, or strings. Strings are immutable sequences of Unicode code points. String literals are written in a variety of ways:\n",
        "\n",
        "* Single quotes:"
      ]
    },
    {
      "cell_type": "code",
      "metadata": {
        "id": "zxQHyGhqmVYS"
      },
      "source": [
        "single_quotes = 'allows embedded \"double\" quotes'"
      ],
      "execution_count": 1,
      "outputs": []
    },
    {
      "cell_type": "markdown",
      "metadata": {
        "id": "TMPiZPZemv9R"
      },
      "source": [
        "* Double quotes: "
      ]
    },
    {
      "cell_type": "code",
      "metadata": {
        "id": "qbhivGRkmigR"
      },
      "source": [
        "double_quotes = \"allows embedded 'single' quotes\""
      ],
      "execution_count": 2,
      "outputs": []
    },
    {
      "cell_type": "markdown",
      "metadata": {
        "id": "T8w7Lq-Hmi4s"
      },
      "source": [
        "* Triple quites:"
      ]
    },
    {
      "cell_type": "code",
      "metadata": {
        "id": "nr1mneaNnEg_"
      },
      "source": [
        "triple_quotes_1 = '''Three single quotes'''\n",
        "triple_quotes_2 = \"\"\"Three double quotes\"\"\""
      ],
      "execution_count": 3,
      "outputs": []
    },
    {
      "cell_type": "markdown",
      "metadata": {
        "id": "Wue6-wgvmTAU"
      },
      "source": [
        "Python strings are \"immutable\" which means they cannot be changed after they are created. Since strings can't be changed, we construct *new* strings as we go to represent computed values. So for example the expression ('hello' + 'there') takes in the 2 strings 'hello' and 'there' and builds a new string 'hellothere'.\n"
      ]
    },
    {
      "cell_type": "markdown",
      "metadata": {
        "id": "9OarwWJht0xb"
      },
      "source": [
        "Characters in a string can be accessed using the standard [ ] syntax"
      ]
    },
    {
      "cell_type": "code",
      "metadata": {
        "colab": {
          "base_uri": "https://localhost:8080/"
        },
        "id": "zqntACLqt4sN",
        "outputId": "ecb22059-1f0d-4611-8cee-e0f4962ac838"
      },
      "source": [
        "  s = 'hi'\n",
        "  print(s[1])\n",
        "  print(len(s))\n",
        "  print(s + ' there')"
      ],
      "execution_count": 4,
      "outputs": [
        {
          "output_type": "stream",
          "name": "stdout",
          "text": [
            "i\n",
            "2\n",
            "hi there\n"
          ]
        }
      ]
    },
    {
      "cell_type": "markdown",
      "metadata": {
        "id": "hTSN5DWYuNvt"
      },
      "source": [
        "The str() function converts values to a string form so they can be combined with other strings."
      ]
    },
    {
      "cell_type": "code",
      "metadata": {
        "colab": {
          "base_uri": "https://localhost:8080/"
        },
        "id": "Jj0FswRyuPPg",
        "outputId": "1188d206-89c4-4c6f-d1be-149609379978"
      },
      "source": [
        "pi = 3.14\n",
        "text = 'The value of pi is '  + str(pi)\n",
        "print(text)"
      ],
      "execution_count": 5,
      "outputs": [
        {
          "output_type": "stream",
          "name": "stdout",
          "text": [
            "The value of pi is 3.14\n"
          ]
        }
      ]
    },
    {
      "cell_type": "markdown",
      "metadata": {
        "id": "aJ168WwowUah"
      },
      "source": [
        "The \"print\" function prints out one or more python items followed by a newline (leave a trailing comma at the end of the items to inhibit the newline). A \"raw\" string literal is prefixed by an 'r' and passes all the chars through without special treatment of backslashes, so r'x\\nx' evaluates to the length-4 string 'x\\nx'. A 'u' prefix allows you to write a unicode string literal (Python has lots of other unicode support features -- see the docs below)."
      ]
    },
    {
      "cell_type": "code",
      "metadata": {
        "colab": {
          "base_uri": "https://localhost:8080/"
        },
        "id": "LDsrhGcUwUx4",
        "outputId": "a19c1c74-6f3c-4a8b-d826-25b51acf967a"
      },
      "source": [
        "raw = r'this\\t\\n and that'\n",
        "print(raw)\n",
        "\n",
        "multi = \"\"\"It was the best of times.\n",
        "  It was the worst of times.\"\"\"\n",
        "print(multi)"
      ],
      "execution_count": 6,
      "outputs": [
        {
          "output_type": "stream",
          "name": "stdout",
          "text": [
            "this\\t\\n and that\n",
            "It was the best of times.\n",
            "  It was the worst of times.\n"
          ]
        }
      ]
    },
    {
      "cell_type": "markdown",
      "metadata": {
        "id": "LPOjDscmxbB_"
      },
      "source": [
        "## String Methods\n",
        "Here are some of the most common string methods. \n",
        "\n",
        "* s.lower(), s.upper() -- returns the lowercase or uppercase version of the string\n",
        "* s.strip() -- returns a string with whitespace removed from the start and end\n",
        "* s.isalpha()/s.isdigit()/s.isspace()... -- tests if all the string chars are in the various character classes\n",
        "* s.startswith('other'), s.endswith('other') -- tests if the string starts or ends with the given other string\n",
        "* s.find('other') -- searches for the given other string (not a regular expression) within s, and returns the first index where it begins or -1 if not found\n",
        "* s.replace('old', 'new') -- returns a string where all occurrences of 'old' have been replaced by 'new'\n",
        "* s.split('delim') -- returns a list of substrings separated by the given delimiter. The delimiter is not a regular expression, it's just text. 'aaa,bbb,ccc'.split(',') -> ['aaa', 'bbb', 'ccc']. As a convenient special case s.split() (with no arguments) splits on all whitespace chars.\n",
        "* s.join(list) -- opposite of split(), joins the elements in the given list together using the string as the delimiter. e.g. '---'.join(['aaa', 'bbb', 'ccc']) -> aaa---bbb---ccc"
      ]
    },
    {
      "cell_type": "markdown",
      "metadata": {
        "id": "4nkXVJdxyUUv"
      },
      "source": [
        "## String Slices\n",
        "\n",
        "The \"slice\" syntax is a handy way to refer to sub-parts of sequences -- typically strings and lists. The slice s[start:end] is the elements beginning at start and extending up to but not including end. Suppose we have s = \"Hello\"\n",
        "\n",
        "the string 'hello' with letter indexes 0 1 2 3 4\n",
        "\n",
        "* s[1:4] is 'ell' -- chars starting at index 1 and extending up to but not including index 4\n",
        "* s[1:] is 'ello' -- omitting either index defaults to the start or end of the string\n",
        "* s[:] is 'Hello' -- omitting both always gives us a copy of the whole thing (this is the pythonic way to copy a sequence like a string or list)\n",
        "* s[1:100] is 'ello' -- an index that is too big is truncated down to the string length\n",
        "The standard zero-based index numbers give easy access to chars near the start of the string. As an alternative, Python uses negative numbers to give easy access to the chars at the end of the string: s[-1] is the last char 'o', s[-2] is 'l' the next-to-last char, and so on. Negative index numbers count back from the end of the string:\n",
        "\n",
        "* s[-1] is 'o' -- last char (1st from the end)\n",
        "* s[-4] is 'e' -- 4th from the end\n",
        "* s[:-3] is 'He' -- going up to but not including the last 3 chars.\n",
        "* s[-3:] is 'llo' -- starting with the 3rd char from the end and extending to the end of the string.\n"
      ]
    },
    {
      "cell_type": "code",
      "metadata": {
        "colab": {
          "base_uri": "https://localhost:8080/"
        },
        "id": "kF-yOqm61OhU",
        "outputId": "4b95a370-fa56-4f07-d2b1-567d51df1671"
      },
      "source": [
        "s = 'hello'\n",
        "\n",
        "print('s[1:4]\\t:', s[1:4])\n",
        "print('s[1:]\\t:', s[1:])\n",
        "print('s[:]\\t:', s[:])\n",
        "print('s[1:100]:', s[1:100])\n",
        "\n",
        "\n",
        "print('s[-1]\\t:', s[-1])\n",
        "print('s[-4]\\t:', s[-4])\n",
        "print('s[:-3]\\t:', s[:-3])\n",
        "print('s[-3:]:', s[-3:])"
      ],
      "execution_count": 7,
      "outputs": [
        {
          "output_type": "stream",
          "name": "stdout",
          "text": [
            "s[1:4]\t: ell\n",
            "s[1:]\t: ello\n",
            "s[:]\t: hello\n",
            "s[1:100]: ello\n",
            "s[-1]\t: o\n",
            "s[-4]\t: e\n",
            "s[:-3]\t: he\n",
            "s[-3:]: llo\n"
          ]
        }
      ]
    },
    {
      "cell_type": "markdown",
      "metadata": {
        "id": "XTCNgVBE3YQZ"
      },
      "source": [
        "## Exercise 1\n"
      ]
    },
    {
      "cell_type": "markdown",
      "metadata": {
        "id": "6E9bskKo5k5Y"
      },
      "source": [
        "### 1. both_ends\n",
        "\n",
        "Given a string s, return a string made of the first 2 and the last 2 chars of the original string, so 'spring' yields 'spng'. However, if the string length\n",
        "is less than 2, return instead the empty string.\n"
      ]
    },
    {
      "cell_type": "code",
      "metadata": {
        "id": "8HCmpG8q5soO"
      },
      "source": [
        "def both_ends(s):\n",
        "  string = s[:2] + s[-2:] if len(s)>2 else \"\"\n",
        "  return string"
      ],
      "execution_count": 8,
      "outputs": []
    },
    {
      "cell_type": "code",
      "metadata": {
        "id": "Lsdpew8Y7vue",
        "colab": {
          "base_uri": "https://localhost:8080/"
        },
        "outputId": "d4ff8e54-fe06-4d43-ccfc-84c9097ab507"
      },
      "source": [
        "print(both_ends('spring')) # 'spng'\n",
        "print(both_ends('Hello'))  # 'Helo'\n",
        "print(both_ends('a'))      # ''\n",
        "print(both_ends('xyz'))    #'xyyz'"
      ],
      "execution_count": 9,
      "outputs": [
        {
          "output_type": "stream",
          "name": "stdout",
          "text": [
            "spng\n",
            "Helo\n",
            "\n",
            "xyyz\n"
          ]
        }
      ]
    },
    {
      "cell_type": "markdown",
      "metadata": {
        "id": "Fa-S1pnw50Qa"
      },
      "source": [
        "### 2. fix_start\n",
        "\n",
        "Given a string s, return a string where all occurences of its first char have been changed to '*', except do not change the first char itself. \n",
        "\n",
        "e.g. 'babble' yields 'ba**le'\n",
        "Assume that the string is length 1 or more.\n",
        "\n",
        "Hint: s.replace(stra, strb) returns a version of string s\n",
        "where all instances of stra have been replaced by strb."
      ]
    },
    {
      "cell_type": "code",
      "metadata": {
        "id": "x9_HdpLm6Vik"
      },
      "source": [
        "def fix_start(s):\n",
        "  return s[0] + s.replace(s[0],'*')[1:]"
      ],
      "execution_count": 10,
      "outputs": []
    },
    {
      "cell_type": "code",
      "metadata": {
        "id": "eR11H0XL8LUh",
        "colab": {
          "base_uri": "https://localhost:8080/"
        },
        "outputId": "56d6fde7-0953-47d3-98fa-5afdb7be0e9f"
      },
      "source": [
        "print(fix_start('babble'))  # 'ba**le'\n",
        "print(fix_start('aardvark')) # 'a*rdv*rk'\n",
        "print(fix_start('google')) # 'goo*le'\n",
        "print(fix_start('donut')) # 'donut'"
      ],
      "execution_count": 11,
      "outputs": [
        {
          "output_type": "stream",
          "name": "stdout",
          "text": [
            "ba**le\n",
            "a*rdv*rk\n",
            "goo*le\n",
            "donut\n"
          ]
        }
      ]
    },
    {
      "cell_type": "markdown",
      "metadata": {
        "id": "zm5Qe4PB60Sa"
      },
      "source": [
        "### 3. mix_up\n",
        "Given strings a and b, return a single string with a and b separated by a space \\<a\\> \\<b\\>, except swap the first 2 chars of each string.\n",
        "\n",
        "e.g.\n",
        "```\n",
        "  'mix', pod' -> 'pox mid'\n",
        "  'dog', 'dinner' -> 'dig donner'\n",
        "```\n",
        "Assume a and b are length 2 or more."
      ]
    },
    {
      "cell_type": "code",
      "metadata": {
        "id": "-jdHL95T7aYN"
      },
      "source": [
        "def mix_up(a, b):\n",
        "  return b[:2] + a[-1] + ' ' + a[:2] + b[-1]"
      ],
      "execution_count": 12,
      "outputs": []
    },
    {
      "cell_type": "code",
      "metadata": {
        "id": "RihwhJR18Skd",
        "colab": {
          "base_uri": "https://localhost:8080/"
        },
        "outputId": "c5dbf15c-efae-4a8f-bc90-83f7f4b20d93"
      },
      "source": [
        "print(mix_up('mix', 'pod')) # 'pox mid'\n",
        "print(mix_up('dog', 'dinner'))  # 'dig donner'\n",
        "print(mix_up('gnash', 'sport')) # 'spash gnort'\n",
        "print(mix_up('pezzy', 'firm'))  # 'fizzy perm'"
      ],
      "execution_count": 13,
      "outputs": [
        {
          "output_type": "stream",
          "name": "stdout",
          "text": [
            "pox mid\n",
            "dig dor\n",
            "sph gnt\n",
            "fiy pem\n"
          ]
        }
      ]
    },
    {
      "cell_type": "markdown",
      "metadata": {
        "id": "pv3ab3629Sd0"
      },
      "source": [
        "### 4. verbing\n",
        "Given a string, if its length is at least 3, add 'ing' to its end. Unless it already ends in 'ing', in which case add 'ly' instead. If the string length is less than 3, leave it unchanged. Return the resulting string."
      ]
    },
    {
      "cell_type": "code",
      "metadata": {
        "id": "lZU4mrAk9ic-"
      },
      "source": [
        "def verbing(s):\n",
        "  string = s\n",
        "  if len(s)>3:\n",
        "    if s.endswith(\"ing\"):\n",
        "      string += \"ly\"\n",
        "    else:\n",
        "      string += \"ing\"\n",
        "  return string"
      ],
      "execution_count": 14,
      "outputs": []
    },
    {
      "cell_type": "code",
      "metadata": {
        "id": "df-5htBT9mvD",
        "colab": {
          "base_uri": "https://localhost:8080/"
        },
        "outputId": "0bb7170d-5b93-432e-f5e5-113ac866ea1a"
      },
      "source": [
        "print(verbing('hail')) # 'hailing'\n",
        "print(verbing('swiming')) # 'swimingly'\n",
        "print(verbing('do'))  # 'do'"
      ],
      "execution_count": 15,
      "outputs": [
        {
          "output_type": "stream",
          "name": "stdout",
          "text": [
            "hailing\n",
            "swimingly\n",
            "do\n"
          ]
        }
      ]
    },
    {
      "cell_type": "markdown",
      "metadata": {
        "id": "sqhnW1As97Xe"
      },
      "source": [
        "### 5. not_bad\n",
        "\n",
        "Given a string, find the first appearance of the substring 'not' and 'bad'. If the 'bad' follows the 'not', replace the whole 'not'...'bad' substring with 'good'. Return the resulting string. So 'This dinner is not that bad!' yields: This dinner is good!"
      ]
    },
    {
      "cell_type": "code",
      "metadata": {
        "id": "BIHiXfSj-Os5"
      },
      "source": [
        "def not_bad(s):\n",
        "  t1 = s.find(\"not\")\n",
        "  t2 = s.find(\"bad\")\n",
        "  string = s\n",
        "  if t2 > t1:\n",
        "    string = s[:t1] + \"good\" + s[t2+len(\"bad\"):]\n",
        "  return string"
      ],
      "execution_count": 16,
      "outputs": []
    },
    {
      "cell_type": "code",
      "metadata": {
        "id": "J25Jag-M-QgN",
        "colab": {
          "base_uri": "https://localhost:8080/"
        },
        "outputId": "9300a9bd-99b5-4f6a-ee65-50dd92a225f7"
      },
      "source": [
        "print(not_bad('This movie is not so bad'))  # 'This movie is good'\n",
        "print(not_bad('This dinner is not that bad!')) # 'This dinner is good!'\n",
        "print(not_bad('This tea is not hot')) # 'This tea is not hot'\n",
        "print(not_bad(\"It's bad yet not\"))  # \"It's bad yet not\""
      ],
      "execution_count": 17,
      "outputs": [
        {
          "output_type": "stream",
          "name": "stdout",
          "text": [
            "This movie is good\n",
            "This dinner is good!\n",
            "This tea is not hot\n",
            "It's bad yet not\n"
          ]
        }
      ]
    },
    {
      "cell_type": "markdown",
      "metadata": {
        "id": "twZFBm9DC_WO"
      },
      "source": [
        "Hint: ```'this movie is bad'.find('bad')``` -> 14"
      ]
    },
    {
      "cell_type": "markdown",
      "metadata": {
        "id": "lORICw0X_tpK"
      },
      "source": [
        "### 6. front_back\n",
        "\n",
        "Consider dividing a string into two halves. If the length is even, the front and back halves are the same length. If the length is odd, we'll say that the extra char goes in the front half. \n",
        "\n",
        "e.g. 'abcde', the front half is 'abc', the back half 'de'.\n",
        "\n",
        "Given 2 strings, a and b, return a string of the form\n",
        "```\n",
        "a-front + b-front + a-back + b-back\n",
        "```"
      ]
    },
    {
      "cell_type": "code",
      "metadata": {
        "id": "voecG6S0_spX"
      },
      "source": [
        "def front_back(a, b):\n",
        "  sp_a = len(a)//2 + len(a)%2\n",
        "  sp_b = len(b)//2 + len(b)%2\n",
        "  return a[:sp_a] + b[:sp_b] + a[sp_a:] + b[sp_b:]"
      ],
      "execution_count": 18,
      "outputs": []
    },
    {
      "cell_type": "code",
      "metadata": {
        "id": "U_XLWCfWAV3A",
        "colab": {
          "base_uri": "https://localhost:8080/"
        },
        "outputId": "73a620d7-3065-4968-d14d-5f0de2f6070a"
      },
      "source": [
        "print(front_back('abcd', 'xy')) # 'abxcdy'\n",
        "print(front_back('abcde', 'xyz')) #'abcxydez'\n",
        "print(front_back('Kitten', 'Donut'))  #'KitDontenut'"
      ],
      "execution_count": 19,
      "outputs": [
        {
          "output_type": "stream",
          "name": "stdout",
          "text": [
            "abxcdy\n",
            "abcxydez\n",
            "KitDontenut\n"
          ]
        }
      ]
    },
    {
      "cell_type": "markdown",
      "metadata": {
        "id": "m9GWEncIBcMZ"
      },
      "source": [
        "Hint:\n",
        "``` a//b ```\n",
        "is floor division\n",
        "\n",
        "and \n",
        "``` a%b ```\n",
        "is the remainder of the division"
      ]
    },
    {
      "cell_type": "markdown",
      "metadata": {
        "id": "9HiooV16Dz7m"
      },
      "source": [
        "### 7. words_freqs \n",
        "counts how often each word appears in the text and returns a dictionary of with words as keys and counts as values:\n",
        "```{'word1':count1,\n",
        "'word2':count2}```"
      ]
    },
    {
      "cell_type": "code",
      "metadata": {
        "id": "AAoP7clwDvzD"
      },
      "source": [
        "# option 1\n",
        "def words_freqs(text_string):\n",
        "  vocab_dict = dict()\n",
        "  for w in text_string.split(\" \"):\n",
        "    if w in vocab_dict.keys(): \n",
        "      vocab_dict[w] += 1\n",
        "    else: \n",
        "      vocab_dict[w] = 1\n",
        "  return vocab_dict"
      ],
      "execution_count": 20,
      "outputs": []
    },
    {
      "cell_type": "code",
      "metadata": {
        "id": "Z_gziX-r7pBj"
      },
      "source": [
        "# option 2 - using defaultdict\n",
        "from collections import defaultdict\n",
        "def words_freqs(text_string):\n",
        "  vocab_dict = defaultdict(int)\n",
        "  for w in text_string.split(\" \"):\n",
        "      vocab_dict[w] += 1\n",
        "  return dict(vocab_dict)"
      ],
      "execution_count": 21,
      "outputs": []
    },
    {
      "cell_type": "code",
      "metadata": {
        "id": "iFHTR9w18eQ6"
      },
      "source": [
        "# option 3\n",
        "from collections import Counter\n",
        "def words_freqs(text_string):\n",
        "  return Counter(text_string.split()) "
      ],
      "execution_count": 22,
      "outputs": []
    },
    {
      "cell_type": "code",
      "metadata": {
        "colab": {
          "base_uri": "https://localhost:8080/"
        },
        "id": "wX1fjm6GEnon",
        "outputId": "fe506eb8-e050-4f58-bdf4-cc235592fa36"
      },
      "source": [
        "print(words_freqs('This movie is not so bad'))  \n",
        "# {'This': 1, 'movie': 1, 'is': 1, 'not': 1, 'so': 1, 'bad': 1}\n",
        "\n",
        "print(words_freqs('this is true, that is false'))\n",
        "# {'this': 1, 'is': 2, 'true,': 1, 'that': 1, 'false': 1}"
      ],
      "execution_count": 23,
      "outputs": [
        {
          "output_type": "stream",
          "name": "stdout",
          "text": [
            "Counter({'This': 1, 'movie': 1, 'is': 1, 'not': 1, 'so': 1, 'bad': 1})\n",
            "Counter({'is': 2, 'this': 1, 'true,': 1, 'that': 1, 'false': 1})\n"
          ]
        }
      ]
    },
    {
      "cell_type": "markdown",
      "metadata": {
        "id": "sGdBJhBDKkub"
      },
      "source": [
        "To get the result in a sorted fashion from the most frequent to the least frequent:"
      ]
    },
    {
      "cell_type": "code",
      "metadata": {
        "colab": {
          "base_uri": "https://localhost:8080/"
        },
        "id": "PgfS4NoTHi1q",
        "outputId": "30ff0499-8832-462d-f733-8b33ac96bd16"
      },
      "source": [
        "vocab = words_freqs('this is true, that is false')\n",
        "sorted(vocab.items(), key=lambda x: x[1], reverse=True)"
      ],
      "execution_count": 24,
      "outputs": [
        {
          "output_type": "execute_result",
          "data": {
            "text/plain": [
              "[('is', 2), ('this', 1), ('true,', 1), ('that', 1), ('false', 1)]"
            ]
          },
          "metadata": {},
          "execution_count": 24
        }
      ]
    },
    {
      "cell_type": "markdown",
      "metadata": {
        "id": "Fu9JFcvQKSWP"
      },
      "source": [
        "The expected result:\n",
        "\n",
        "```[('is', 2), ('this', 1), ('true,', 1), ('that', 1), ('false', 1)] ```"
      ]
    },
    {
      "cell_type": "markdown",
      "metadata": {
        "id": "GTzkb5z6tVl9"
      },
      "source": [
        "## References \n",
        "* https://docs.python.org/3/library/stdtypes.html#text-sequence-type-str"
      ]
    },
    {
      "cell_type": "markdown",
      "metadata": {
        "id": "nIaTvkJrePOZ"
      },
      "source": [
        "# Regular expressions"
      ]
    },
    {
      "cell_type": "markdown",
      "metadata": {
        "id": "a5VYsKwVM9ac"
      },
      "source": [
        "Regular expressions are a powerful language for matching text patterns. This page gives a basic introduction to regular expressions themselves sufficient for our Python exercises and shows how regular expressions work in Python. The Python \"re\" module provides regular expression support.\n",
        "In Python a regular expression search is typically written as:"
      ]
    },
    {
      "cell_type": "code",
      "metadata": {
        "id": "0ufRRVBbM_5z"
      },
      "source": [
        "import re\n",
        "\n",
        "pat = ''\n",
        "test_str = '' \n",
        "match = re.search(pat, test_str)"
      ],
      "execution_count": 25,
      "outputs": []
    },
    {
      "cell_type": "markdown",
      "metadata": {
        "id": "pMCovEdmNMrs"
      },
      "source": [
        "The re.search() method takes a regular expression pattern and a string and searches for that pattern within the string. If the search is successful, search() returns a match object or None otherwise. As shown in the following example which searches for the pattern 'word:' followed by a 3 letter word:"
      ]
    },
    {
      "cell_type": "code",
      "metadata": {
        "colab": {
          "base_uri": "https://localhost:8080/",
          "height": 35
        },
        "id": "NUvXZlr4NYJE",
        "outputId": "09d40d92-83ce-4071-dec0-5efeaef5305e"
      },
      "source": [
        "test_str = 'an example word:cat!!'\n",
        "match = re.search(r'word:\\w+', test_str)\n",
        "match.group()"
      ],
      "execution_count": 26,
      "outputs": [
        {
          "output_type": "execute_result",
          "data": {
            "text/plain": [
              "'word:cat'"
            ],
            "application/vnd.google.colaboratory.intrinsic+json": {
              "type": "string"
            }
          },
          "metadata": {},
          "execution_count": 26
        }
      ]
    },
    {
      "cell_type": "markdown",
      "metadata": {
        "id": "wsO-3B3-N3hg"
      },
      "source": [
        "The code ```match = re.search(pat, str)``` stores the search result in a variable named \"match\".\n",
        "\n",
        "The 'r' at the start of the pattern string designates a python \"raw\" string which passes through backslashes without change which is very handy for regular expressions."
      ]
    },
    {
      "cell_type": "markdown",
      "metadata": {
        "id": "Mh3mUKwYOZ3F"
      },
      "source": [
        "## Basic Patterns\n",
        "\n",
        "The power of regular expressions is that they can specify patterns, not just fixed characters. Here are the most basic patterns which match single chars:\n",
        "\n",
        "* a, X, 9, < -- ordinary characters just match themselves exactly. The meta-characters which do not match themselves because they have special meanings are: . ^ $ * + ? { [ ] \\ | ( ) (details below)\n",
        "\n",
        "* . (a period) -- matches any single character except newline '\\n'\n",
        "* \\w -- (lowercase w) matches a \"word\" character: a letter or digit or underbar [a-zA-Z0-9_]. Note that although \"word\" is the mnemonic for this, it only matches a single word char, not a whole word. \\W (upper case W) matches any non-word character.\n",
        "* \\b -- boundary between word and non-word\n",
        "* \\s -- (lowercase s) matches a single whitespace character -- space, newline, return, tab, form [ \\n\\r\\t\\f]. \\S (upper case S) matches any non-whitespace character.\n",
        "* \\t, \\n, \\r -- tab, newline, return\n",
        "* \\d -- decimal digit [0-9] (some older regex utilities do not support but \\d, but they all support \\w and \\s)\n",
        "* ^ = start, $ = end -- match the start or end of the string\n",
        "* \\ -- inhibit the \"specialness\" of a character. So, for example, use \\. to match a period or \\\\ to match a slash. If you are unsure if a character has special meaning, such as '@', you can put a slash in front of it, \\@, to make sure it is treated just as a character.\n",
        "\n",
        "For more details please refer to the week 2 slides and the chapter provided for further reading."
      ]
    },
    {
      "cell_type": "markdown",
      "metadata": {
        "id": "L2YrJ_P9Q_2J"
      },
      "source": [
        "## Basic Examples\n",
        "\n",
        "The basic rules of regular expression search for a pattern within a string are:\n",
        "\n",
        "The search proceeds through the string from start to end, stopping at the first match found\n",
        "All of the pattern must be matched, but not all of the string\n",
        "If ```match = re.search(pat, str)``` is successful, match is not None and in particular match.group() is the matching text"
      ]
    },
    {
      "cell_type": "code",
      "metadata": {
        "colab": {
          "base_uri": "https://localhost:8080/"
        },
        "id": "ErCDGsN6RPoZ",
        "outputId": "bd5303a9-1e6c-46e1-c297-e78ce208e774"
      },
      "source": [
        "match = re.search(r'iii', 'piiig') \n",
        "print(match)"
      ],
      "execution_count": 27,
      "outputs": [
        {
          "output_type": "stream",
          "name": "stdout",
          "text": [
            "<re.Match object; span=(1, 4), match='iii'>\n"
          ]
        }
      ]
    },
    {
      "cell_type": "code",
      "metadata": {
        "colab": {
          "base_uri": "https://localhost:8080/"
        },
        "id": "SNH9RJrBRrq4",
        "outputId": "57bb3698-faae-4fb4-b884-5d2881cd1bcd"
      },
      "source": [
        "match = re.search(r'igs', 'piiig') \n",
        "print(match)"
      ],
      "execution_count": 28,
      "outputs": [
        {
          "output_type": "stream",
          "name": "stdout",
          "text": [
            "None\n"
          ]
        }
      ]
    },
    {
      "cell_type": "code",
      "metadata": {
        "colab": {
          "base_uri": "https://localhost:8080/"
        },
        "id": "ihRRPm9WRz_u",
        "outputId": "55a6dc57-994a-4fad-b394-4596c512df4a"
      },
      "source": [
        "match = re.search(r'..g', 'piiig')\n",
        "print(match)"
      ],
      "execution_count": 29,
      "outputs": [
        {
          "output_type": "stream",
          "name": "stdout",
          "text": [
            "<re.Match object; span=(2, 5), match='iig'>\n"
          ]
        }
      ]
    },
    {
      "cell_type": "code",
      "metadata": {
        "colab": {
          "base_uri": "https://localhost:8080/"
        },
        "id": "yAcXil_CR5tW",
        "outputId": "3de895cc-0027-4fbc-e123-02b69c25c05e"
      },
      "source": [
        "match = re.search(r'\\d\\d\\d', 'p123g') \n",
        "print(match)"
      ],
      "execution_count": 30,
      "outputs": [
        {
          "output_type": "stream",
          "name": "stdout",
          "text": [
            "<re.Match object; span=(1, 4), match='123'>\n"
          ]
        }
      ]
    },
    {
      "cell_type": "code",
      "metadata": {
        "colab": {
          "base_uri": "https://localhost:8080/"
        },
        "id": "cRLXkA6YR_eX",
        "outputId": "b7f782a0-0946-4328-f1e6-306c175c9964"
      },
      "source": [
        "match = re.search(r'\\w\\w\\w', '@@abcd!!') \n",
        "print(match)"
      ],
      "execution_count": 31,
      "outputs": [
        {
          "output_type": "stream",
          "name": "stdout",
          "text": [
            "<re.Match object; span=(2, 5), match='abc'>\n"
          ]
        }
      ]
    },
    {
      "cell_type": "markdown",
      "metadata": {
        "id": "fo4KyNiZSh0z"
      },
      "source": [
        "## Repetition\n",
        "\n",
        "Things get more interesting when you use + and * to specify repetition in the pattern\n",
        "\n",
        "* \\+ -- 1 or more occurrences of the pattern to its left, e.g. 'i+' = one or more i's\n",
        "* \\* -- 0 or more occurrences of the pattern to its left\n",
        "* ? -- match 0 or 1 occurrences of the pattern to its left\n",
        "\n",
        "### Leftmost & Largest\n",
        "First the search finds the leftmost match for the pattern, and second it tries to use up as much of the string as possible -- i.e. + and * go as far as possible (the + and * are said to be \"greedy\")."
      ]
    },
    {
      "cell_type": "markdown",
      "metadata": {
        "id": "wHfLkDU2TQav"
      },
      "source": [
        "## Repetition Examples"
      ]
    },
    {
      "cell_type": "code",
      "metadata": {
        "colab": {
          "base_uri": "https://localhost:8080/"
        },
        "id": "V2_310eHTOup",
        "outputId": "abe503af-6285-4144-fe88-290125b12cd8"
      },
      "source": [
        "match = re.search(r'pi+', 'piiig')\n",
        "print(match)"
      ],
      "execution_count": 32,
      "outputs": [
        {
          "output_type": "stream",
          "name": "stdout",
          "text": [
            "<re.Match object; span=(0, 4), match='piii'>\n"
          ]
        }
      ]
    },
    {
      "cell_type": "code",
      "metadata": {
        "colab": {
          "base_uri": "https://localhost:8080/"
        },
        "id": "m5okuikWTZVt",
        "outputId": "380b7902-ecda-4ee0-d0d1-2b01abb6892e"
      },
      "source": [
        "match = re.search(r'i+', 'piigiiii')\n",
        "print(match)"
      ],
      "execution_count": 33,
      "outputs": [
        {
          "output_type": "stream",
          "name": "stdout",
          "text": [
            "<re.Match object; span=(1, 3), match='ii'>\n"
          ]
        }
      ]
    },
    {
      "cell_type": "code",
      "metadata": {
        "colab": {
          "base_uri": "https://localhost:8080/"
        },
        "id": "awT6c4ymUIx5",
        "outputId": "f34399c9-5386-477c-fb75-5ca401a18e18"
      },
      "source": [
        "match = re.search(r'\\d\\s*\\d\\s*\\d', 'xx1 2   3xx')\n",
        "print(match)"
      ],
      "execution_count": 34,
      "outputs": [
        {
          "output_type": "stream",
          "name": "stdout",
          "text": [
            "<re.Match object; span=(2, 9), match='1 2   3'>\n"
          ]
        }
      ]
    },
    {
      "cell_type": "code",
      "metadata": {
        "colab": {
          "base_uri": "https://localhost:8080/"
        },
        "id": "K04_TBAAUNKJ",
        "outputId": "11747df5-d68b-4028-d137-6380d199cc46"
      },
      "source": [
        "match = re.search(r'\\d\\s*\\d\\s*\\d', 'xx12  3xx')\n",
        "print(match)"
      ],
      "execution_count": 35,
      "outputs": [
        {
          "output_type": "stream",
          "name": "stdout",
          "text": [
            "<re.Match object; span=(2, 7), match='12  3'>\n"
          ]
        }
      ]
    },
    {
      "cell_type": "code",
      "metadata": {
        "colab": {
          "base_uri": "https://localhost:8080/"
        },
        "id": "DseUiZIDUQpt",
        "outputId": "f0685a64-de41-4439-c2b1-6765b850aeb5"
      },
      "source": [
        "match = re.search(r'\\d\\s*\\d\\s*\\d', 'xx123xx')\n",
        "print(match)"
      ],
      "execution_count": 36,
      "outputs": [
        {
          "output_type": "stream",
          "name": "stdout",
          "text": [
            "<re.Match object; span=(2, 5), match='123'>\n"
          ]
        }
      ]
    },
    {
      "cell_type": "code",
      "metadata": {
        "colab": {
          "base_uri": "https://localhost:8080/"
        },
        "id": "CZSWCSqpUizv",
        "outputId": "221f7282-fe9f-4e78-bbe4-f936ee3d2b0c"
      },
      "source": [
        "match = re.search(r'^b\\w+', 'foobar')\n",
        "print(match)"
      ],
      "execution_count": 37,
      "outputs": [
        {
          "output_type": "stream",
          "name": "stdout",
          "text": [
            "None\n"
          ]
        }
      ]
    },
    {
      "cell_type": "code",
      "metadata": {
        "colab": {
          "base_uri": "https://localhost:8080/"
        },
        "id": "QwKlmzgVUr9b",
        "outputId": "d01a3bae-6f55-4a31-b11b-2279603915f8"
      },
      "source": [
        "match = re.search(r'b\\w+', 'foobar')\n",
        "print(match)"
      ],
      "execution_count": 38,
      "outputs": [
        {
          "output_type": "stream",
          "name": "stdout",
          "text": [
            "<re.Match object; span=(3, 6), match='bar'>\n"
          ]
        }
      ]
    },
    {
      "cell_type": "markdown",
      "metadata": {
        "id": "6XV0ZgDvUxSH"
      },
      "source": [
        "## Emails Example\n",
        "\n",
        "Suppose you want to find the email address inside the string 'xyz alice-b@students.latrobe.edu.au purple monkey'. We'll use this as a running example to demonstrate more regular expression features. Here's an attempt using the pattern r'\\w+@\\w+':"
      ]
    },
    {
      "cell_type": "code",
      "metadata": {
        "colab": {
          "base_uri": "https://localhost:8080/"
        },
        "id": "G9JCedzmVCYp",
        "outputId": "c512bc82-6529-4469-8ebd-8d43eb54a033"
      },
      "source": [
        "test_email = '1112-2233@students.latrobe.edu.au monkey dishwasher'\n",
        "match = re.search(r'\\w+@\\w+', test_email)\n",
        "print(match.group())"
      ],
      "execution_count": 39,
      "outputs": [
        {
          "output_type": "stream",
          "name": "stdout",
          "text": [
            "2233@students\n"
          ]
        }
      ]
    },
    {
      "cell_type": "markdown",
      "metadata": {
        "id": "mvRLqoK-ZGvr"
      },
      "source": [
        "The search does not get the whole email address in this case because the \\w does not match the '-' or '.' in the address. We'll fix this using the regular expression features below."
      ]
    },
    {
      "cell_type": "code",
      "metadata": {
        "colab": {
          "base_uri": "https://localhost:8080/"
        },
        "id": "GbdUc_S0ZVYS",
        "outputId": "875744d4-bf71-4731-baba-6276f2ce391b"
      },
      "source": [
        "match = re.search(r'[\\w.-]+@[\\w.-]+', test_email)\n",
        "print(match.group() )"
      ],
      "execution_count": 40,
      "outputs": [
        {
          "output_type": "stream",
          "name": "stdout",
          "text": [
            "1112-2233@students.latrobe.edu.au\n"
          ]
        }
      ]
    },
    {
      "cell_type": "markdown",
      "metadata": {
        "id": "nBSnxX3iaLf4"
      },
      "source": [
        "## Group Extraction\n",
        "\n",
        "The \"group\" feature of a regular expression allows you to pick out parts of the matching text. Suppose for the emails problem that we want to extract the username and host separately. To do this, add parenthesis ( ) around the username and host in the pattern, like this: r'([\\w.-]+)@([\\w.-]+)'. In this case, the parenthesis do not change what the pattern will match, instead they establish logical \"groups\" inside of the match text. On a successful search, match.group(1) is the match text corresponding to the 1st left parenthesis, and match.group(2) is the text corresponding to the 2nd left parenthesis. The plain match.group() is still the whole match text as usual."
      ]
    },
    {
      "cell_type": "code",
      "metadata": {
        "colab": {
          "base_uri": "https://localhost:8080/"
        },
        "id": "e4m-UlqTaSaZ",
        "outputId": "39da45d1-535c-4479-d128-e18579b2ae8f"
      },
      "source": [
        "test_str = 'purple 1112-2233@students.latrobe.edu.au monkey dishwasher'\n",
        "match = re.search(r'([\\w.-]+)@([\\w.-]+)', test_str)\n",
        "print(match.group())\n",
        "print(match.groups())  \n",
        "print(match.group(1)) \n",
        "print(match.group(2)) "
      ],
      "execution_count": 41,
      "outputs": [
        {
          "output_type": "stream",
          "name": "stdout",
          "text": [
            "1112-2233@students.latrobe.edu.au\n",
            "('1112-2233', 'students.latrobe.edu.au')\n",
            "1112-2233\n",
            "students.latrobe.edu.au\n"
          ]
        }
      ]
    },
    {
      "cell_type": "markdown",
      "metadata": {
        "id": "9F8xg2kua2rg"
      },
      "source": [
        "## findall\n",
        "\n",
        "findall() is probably the single most powerful function in the re module. Above we used re.search() to find the first match for a pattern. findall() finds *all* the matches and returns them as a list of strings, with each string representing one match."
      ]
    },
    {
      "cell_type": "code",
      "metadata": {
        "colab": {
          "base_uri": "https://localhost:8080/"
        },
        "id": "A5-jPtnOa-kX",
        "outputId": "b24b0617-5584-4967-e104-764e42825e01"
      },
      "source": [
        "test_str = 'purple 1112-2233@students.latrobe.edu.au, blah monkey bob@abc.com blah dishwasher'\n",
        "\n",
        "emails = re.findall(r'[\\w\\.-]+@[\\w\\.-]+', test_str) \n",
        "for email in emails:\n",
        "  # do something with each found email string\n",
        "  print(email)"
      ],
      "execution_count": 42,
      "outputs": [
        {
          "output_type": "stream",
          "name": "stdout",
          "text": [
            "1112-2233@students.latrobe.edu.au\n",
            "bob@abc.com\n"
          ]
        }
      ]
    },
    {
      "cell_type": "markdown",
      "metadata": {
        "id": "PHUvi546qvDW"
      },
      "source": [
        "## Execise 2"
      ]
    },
    {
      "cell_type": "markdown",
      "metadata": {
        "id": "0bnGSit5q8jl"
      },
      "source": [
        "### 1. cleanup_address\n",
        "Given \n",
        "* 50 Fifth Ave. New York, NY 10012\n",
        "* 100 Ninth Ave. Brooklyn, NY 11416\n",
        "* 9 Houston St. Juneau, AK 99999\n",
        "* 2800 Springfield Rd. Omaha, NE 55555\n",
        "\n",
        "Change to:\n",
        "* 50,Fifth Ave.,New York,NY,10012\n",
        "* 100,Ninth Ave.,Brooklyn,NY,11416\n",
        "* 9,Houston St.,Juneau,AK,99999\n",
        "* 2800,Springfield Rd.,Omaha,NE,55555"
      ]
    },
    {
      "cell_type": "code",
      "metadata": {
        "colab": {
          "base_uri": "https://localhost:8080/"
        },
        "id": "cBPvdupuqqhf",
        "outputId": "7d686305-a83d-40ef-ab78-4d571c8f0e4e"
      },
      "source": [
        "# Part 1\n",
        "import re\n",
        "def cleanup_address(address):\n",
        "  match = re.search(r'(\\d+)\\s(\\w+\\s\\w+\\.)\\s([\\w\\s]+),\\s([\\w]{2})\\s(\\d{5})', address)\n",
        "  return match.group(1)+','+match.group(2)+','+match.group(3)+','+match.group(4)+','+match.group(5)\n",
        "\n",
        "addresses = ['50 Fifth Ave. New York, NY 10012',\n",
        "             '100 Ninth Ave. Brooklyn, NY 11416',\n",
        "             '9 Houston St. Juneau, AK 99999',\n",
        "             '2800 Springfield Rd. Omaha, NE 55555']\n",
        "             \n",
        "print(*(cleanup_address(address) for address in addresses), sep=\"\\n\")"
      ],
      "execution_count": 44,
      "outputs": [
        {
          "output_type": "stream",
          "name": "stdout",
          "text": [
            "50,Fifth Ave.,New York,NY,10012\n",
            "100,Ninth Ave.,Brooklyn,NY,11416\n",
            "9,Houston St.,Juneau,AK,99999\n",
            "2800,Springfield Rd.,Omaha,NE,55555\n"
          ]
        }
      ]
    },
    {
      "cell_type": "markdown",
      "metadata": {
        "id": "oBuW6FNWcCre"
      },
      "source": [
        "### 2. extract_names\n",
        "\n",
        "The Social Security administration has this neat data by year of what names are most popular for babies born that year in the USA (see [social security baby names](http://www.socialsecurity.gov/OACT/babynames/)).\n",
        "\n",
        "Implement the extract_names(filename) function which takes the filename of a baby1990.html file and returns the data from the file as a single list -- the year string at the start of the list followed by the name-rank strings in alphabetical order. ```['2006', 'Aaliyah 91', 'Abagail 895', 'Aaron 57', ...]```. Note that for parsing webpages in general, regular expressions don't do a good job, but these webpages have a simple and consistent format.\n",
        "\n",
        "Rather than treat the boy and girl names separately, we'll just lump them all together. In some years, a name appears more than once in the html, but we'll just use one number per name. Optional: make the algorithm smart about this case and choose whichever number is smaller.\n",
        "\n",
        "Build the program as a series of small milestones, getting each step to run/print something before trying the next step. This is the pattern used by experienced programmers -- build a series of incremental milestones, each with some output to check, rather than building the whole program in one huge step.\n",
        "\n",
        "Printing the data you have at the end of one milestone helps you think about how to re-structure that data for the next milestone. Here are some suggested milestones:\n",
        "\n",
        "* Extract all the text from the file and print it\n",
        "* Find and extract the year and print it\n",
        "* Extract the names and rank numbers and print them\n",
        "* Get the names data into a dict and print it\n",
        "* Build the [year, 'name rank', ... ] list and print it\n",
        "\n",
        "The function should return the list.\n",
        "\n",
        "Tto make the list into a reasonable looking summary text for printing, here's a clever use of join: text = '\\n'.join(mylist) + '\\n'"
      ]
    },
    {
      "cell_type": "code",
      "source": [
        "import re\n",
        "def extract_names(filename):\n",
        "  \"\"\"\n",
        "  Given a file name for baby.html, returns a list starting with the year string\n",
        "  followed by the name-rank strings in alphabetical order.\n",
        "  ['2006', 'Aaliyah 91', Aaron 57', 'Abagail 895', ' ...]\n",
        "  \"\"\"\n",
        "  # open up the file provided\n",
        "  with open(filename) as f:\n",
        "    content = f.read()\n",
        "\n",
        "    # find the year\n",
        "    year = re.search(r'(?:<h1>Popular Names by Birth Year<\\/h1>.*)(\\d{4})',content).group(1)\n",
        "    # find the names and ranks\n",
        "    matches = re.findall(r'<tr align=\"right\"><td>(\\d+)</td><td>(\\w+)</td><td>(\\w+)', content)\n",
        "\n",
        "  # initialize the list to be returned\n",
        "  name_list = [year]\n",
        "  \n",
        "  # loop over the table of names\n",
        "  for match in matches:\n",
        "    # unpack the rank, male name, female name\n",
        "    rank, male, female = match\n",
        "    name_list.append(male + \" \" + rank)\n",
        "    name_list.append(female + \" \" + rank)\n",
        "\n",
        "  name_list = sorted(name_list)\n",
        "  return name_list[:20]\n",
        "\n",
        "\n",
        "filename = 'baby2006.html'\n",
        "extract_names(filename)"
      ],
      "metadata": {
        "colab": {
          "base_uri": "https://localhost:8080/"
        },
        "id": "1eo0A8xsbZya",
        "outputId": "d0157dff-a9e6-4eb8-be31-9bacd0385fde"
      },
      "execution_count": 76,
      "outputs": [
        {
          "output_type": "execute_result",
          "data": {
            "text/plain": [
              "['2007',\n",
              " 'Aaliyah 91',\n",
              " 'Aaron 57',\n",
              " 'Abagail 895',\n",
              " 'Abbey 695',\n",
              " 'Abbie 650',\n",
              " 'Abbigail 490',\n",
              " 'Abby 205',\n",
              " 'Abdullah 888',\n",
              " 'Abel 338',\n",
              " 'Abigail 6',\n",
              " 'Abigale 889',\n",
              " 'Abigayle 777',\n",
              " 'Abraham 183',\n",
              " 'Abram 586',\n",
              " 'Abril 845',\n",
              " 'Ace 838',\n",
              " 'Ada 715',\n",
              " 'Adam 64',\n",
              " 'Adamaris 920']"
            ]
          }
        }
      ]
    },
    {
      "cell_type": "markdown",
      "source": [
        "The following text are additional further readings."
      ],
      "metadata": {
        "id": "pIOW0rIBeRIY"
      }
    },
    {
      "cell_type": "markdown",
      "metadata": {
        "id": "ftoo3AyPLkEX"
      },
      "source": [
        "# Pandas\n",
        "\n",
        "Pandas is a ubiquitous python library for efficiently handling tabular data. It used for cleaning up data"
      ]
    },
    {
      "cell_type": "markdown",
      "metadata": {
        "id": "_DIYwdoQyDWb"
      },
      "source": [
        "Pandas offers two data types, Series and DataFrames."
      ]
    },
    {
      "cell_type": "code",
      "metadata": {
        "id": "jSC-MfUVBqE5"
      },
      "source": [
        "import pandas as pd"
      ],
      "execution_count": 49,
      "outputs": []
    },
    {
      "cell_type": "code",
      "metadata": {
        "colab": {
          "base_uri": "https://localhost:8080/"
        },
        "id": "pzvJPI3wB-wD",
        "outputId": "d7bb2aba-8929-468d-e88b-6d2ea4b6d338"
      },
      "source": [
        "# data is stored as object internally\n",
        "print(pd.Series([\"a\", \"b\", \"c\"]))\n",
        "print()\n",
        "# data is stored as string internally\n",
        "print(pd.Series([\"a\", \"b\", \"c\"], dtype=\"string\"))"
      ],
      "execution_count": 61,
      "outputs": [
        {
          "output_type": "stream",
          "name": "stdout",
          "text": [
            "0    a\n",
            "1    b\n",
            "2    c\n",
            "dtype: object\n",
            "\n",
            "0    a\n",
            "1    b\n",
            "2    c\n",
            "dtype: string\n"
          ]
        }
      ]
    },
    {
      "cell_type": "code",
      "metadata": {
        "colab": {
          "base_uri": "https://localhost:8080/"
        },
        "id": "k-z9tpxPCngJ",
        "outputId": "93c81fb4-ed1f-4fff-d641-7398d9163d3f"
      },
      "source": [
        "s = pd.Series([\"a\", None, \"b\"], dtype=\"string\")\n",
        "print(s)"
      ],
      "execution_count": 62,
      "outputs": [
        {
          "output_type": "stream",
          "name": "stdout",
          "text": [
            "0       a\n",
            "1    <NA>\n",
            "2       b\n",
            "dtype: string\n"
          ]
        }
      ]
    },
    {
      "cell_type": "code",
      "metadata": {
        "colab": {
          "base_uri": "https://localhost:8080/"
        },
        "id": "-jHgbp_vC8yQ",
        "outputId": "9d960acf-168e-4c3d-d7cf-75b59fe76d2e"
      },
      "source": [
        "print(s.str.count(\"a\"))"
      ],
      "execution_count": 63,
      "outputs": [
        {
          "output_type": "stream",
          "name": "stdout",
          "text": [
            "0       1\n",
            "1    <NA>\n",
            "2       0\n",
            "dtype: Int64\n"
          ]
        }
      ]
    },
    {
      "cell_type": "code",
      "metadata": {
        "colab": {
          "base_uri": "https://localhost:8080/"
        },
        "id": "672mJDCAC_i7",
        "outputId": "22173adc-e95a-4d31-9aca-543860092313"
      },
      "source": [
        "print(s.dropna().str.count(\"a\"))"
      ],
      "execution_count": 64,
      "outputs": [
        {
          "output_type": "stream",
          "name": "stdout",
          "text": [
            "0    1\n",
            "2    0\n",
            "dtype: Int64\n"
          ]
        }
      ]
    },
    {
      "cell_type": "code",
      "metadata": {
        "colab": {
          "base_uri": "https://localhost:8080/"
        },
        "id": "WGaXhcxTDPgj",
        "outputId": "38938d36-ca4a-4726-cbab-b2e9788b14a8"
      },
      "source": [
        "s.str.isdigit()"
      ],
      "execution_count": 65,
      "outputs": [
        {
          "output_type": "execute_result",
          "data": {
            "text/plain": [
              "0    False\n",
              "1     <NA>\n",
              "2    False\n",
              "dtype: boolean"
            ]
          },
          "metadata": {},
          "execution_count": 65
        }
      ]
    },
    {
      "cell_type": "code",
      "metadata": {
        "colab": {
          "base_uri": "https://localhost:8080/"
        },
        "id": "Vf9A442lDVJ8",
        "outputId": "edcc82ec-6cec-4870-844a-6b79c6fe8729"
      },
      "source": [
        "s.str.match(\"a\")"
      ],
      "execution_count": 66,
      "outputs": [
        {
          "output_type": "execute_result",
          "data": {
            "text/plain": [
              "0     True\n",
              "1     <NA>\n",
              "2    False\n",
              "dtype: boolean"
            ]
          },
          "metadata": {},
          "execution_count": 66
        }
      ]
    },
    {
      "cell_type": "markdown",
      "metadata": {
        "id": "zKcaDhg3DbKE"
      },
      "source": [
        "## String operations\n"
      ]
    },
    {
      "cell_type": "markdown",
      "metadata": {
        "id": "-dIlEmfXDuKW"
      },
      "source": [
        "Series is equipped with a set of string processing methods that make it easy to operate on each element of the array. e.g. methods to exclude missing/NA values automatically. \n",
        "\n",
        "These are accessed via the str attribute and generally have names matching the equivalent (scalar) built-in string methods:"
      ]
    },
    {
      "cell_type": "code",
      "metadata": {
        "colab": {
          "base_uri": "https://localhost:8080/"
        },
        "id": "OCPB2FH3Dfgj",
        "outputId": "2e0ff5f2-114c-4353-b1aa-e460de04df3d"
      },
      "source": [
        "import numpy as np\n",
        "s = pd.Series([\"A\", \"B\", \"C\", \"Aaba\", \"Baca\", np.nan, \"CABA\", \"dog\", \"cat\"], dtype=\"string\")\n",
        "print(s)"
      ],
      "execution_count": 67,
      "outputs": [
        {
          "output_type": "stream",
          "name": "stdout",
          "text": [
            "0       A\n",
            "1       B\n",
            "2       C\n",
            "3    Aaba\n",
            "4    Baca\n",
            "5    <NA>\n",
            "6    CABA\n",
            "7     dog\n",
            "8     cat\n",
            "dtype: string\n"
          ]
        }
      ]
    },
    {
      "cell_type": "code",
      "metadata": {
        "colab": {
          "base_uri": "https://localhost:8080/"
        },
        "id": "jolWaFiTEEF9",
        "outputId": "f77a8a95-4ba8-455c-b22e-00e9633ce35e"
      },
      "source": [
        "print(s.str.lower())\n",
        "print()\n",
        "print(s.str.upper())"
      ],
      "execution_count": 68,
      "outputs": [
        {
          "output_type": "stream",
          "name": "stdout",
          "text": [
            "0       a\n",
            "1       b\n",
            "2       c\n",
            "3    aaba\n",
            "4    baca\n",
            "5    <NA>\n",
            "6    caba\n",
            "7     dog\n",
            "8     cat\n",
            "dtype: string\n",
            "\n",
            "0       A\n",
            "1       B\n",
            "2       C\n",
            "3    AABA\n",
            "4    BACA\n",
            "5    <NA>\n",
            "6    CABA\n",
            "7     DOG\n",
            "8     CAT\n",
            "dtype: string\n"
          ]
        }
      ]
    },
    {
      "cell_type": "code",
      "metadata": {
        "colab": {
          "base_uri": "https://localhost:8080/"
        },
        "id": "GVfGJkJTEXfO",
        "outputId": "26ca9aef-1318-47a9-f1e4-b41b2f29bb7f"
      },
      "source": [
        "s.str.len()"
      ],
      "execution_count": 69,
      "outputs": [
        {
          "output_type": "execute_result",
          "data": {
            "text/plain": [
              "0       1\n",
              "1       1\n",
              "2       1\n",
              "3       4\n",
              "4       4\n",
              "5    <NA>\n",
              "6       4\n",
              "7       3\n",
              "8       3\n",
              "dtype: Int64"
            ]
          },
          "metadata": {},
          "execution_count": 69
        }
      ]
    },
    {
      "cell_type": "markdown",
      "metadata": {
        "id": "n1SO6ZUfEsgV"
      },
      "source": [
        "## Splitting and replacing strings\n"
      ]
    },
    {
      "cell_type": "code",
      "metadata": {
        "colab": {
          "base_uri": "https://localhost:8080/"
        },
        "id": "ajMdPjN8Ex_u",
        "outputId": "b24bc60f-403e-4ef8-9ed4-94a04a09cf3b"
      },
      "source": [
        "s2 = pd.Series([\"a_b_c\", \"c_d_e\", np.nan, \"f_g_h\"], dtype=\"string\")\n",
        "print(s2)"
      ],
      "execution_count": 70,
      "outputs": [
        {
          "output_type": "stream",
          "name": "stdout",
          "text": [
            "0    a_b_c\n",
            "1    c_d_e\n",
            "2     <NA>\n",
            "3    f_g_h\n",
            "dtype: string\n"
          ]
        }
      ]
    },
    {
      "cell_type": "code",
      "metadata": {
        "colab": {
          "base_uri": "https://localhost:8080/"
        },
        "id": "hrI5ebrrE0Ub",
        "outputId": "866e0b97-b971-45cd-846e-50164fd04cdb"
      },
      "source": [
        "s2.str.split(\"_\")"
      ],
      "execution_count": 71,
      "outputs": [
        {
          "output_type": "execute_result",
          "data": {
            "text/plain": [
              "0    [a, b, c]\n",
              "1    [c, d, e]\n",
              "2         <NA>\n",
              "3    [f, g, h]\n",
              "dtype: object"
            ]
          },
          "metadata": {},
          "execution_count": 71
        }
      ]
    },
    {
      "cell_type": "markdown",
      "metadata": {
        "id": "EC0dOFOYE7vA"
      },
      "source": [
        "Elements in the split lists can be accessed using get or [] notation:"
      ]
    },
    {
      "cell_type": "code",
      "metadata": {
        "colab": {
          "base_uri": "https://localhost:8080/"
        },
        "id": "e0ap-TRcE9GQ",
        "outputId": "92c6d65a-8f9d-43a1-fd49-d2c3fea811cd"
      },
      "source": [
        "s2.str.split(\"_\").str.get(1)"
      ],
      "execution_count": 72,
      "outputs": [
        {
          "output_type": "execute_result",
          "data": {
            "text/plain": [
              "0       b\n",
              "1       d\n",
              "2    <NA>\n",
              "3       g\n",
              "dtype: object"
            ]
          },
          "metadata": {},
          "execution_count": 72
        }
      ]
    },
    {
      "cell_type": "markdown",
      "metadata": {
        "id": "F3P1z-pQE7tG"
      },
      "source": [
        "It is easy to expand this to return a DataFrame using expand\n"
      ]
    },
    {
      "cell_type": "code",
      "metadata": {
        "colab": {
          "base_uri": "https://localhost:8080/"
        },
        "id": "RmiZ509QFNcE",
        "outputId": "f319c9bd-b399-4734-973e-8c7d68f0802c"
      },
      "source": [
        "print(s2.str.split(\"_\", expand=True))"
      ],
      "execution_count": 73,
      "outputs": [
        {
          "output_type": "stream",
          "name": "stdout",
          "text": [
            "      0     1     2\n",
            "0     a     b     c\n",
            "1     c     d     e\n",
            "2  <NA>  <NA>  <NA>\n",
            "3     f     g     h\n"
          ]
        }
      ]
    },
    {
      "cell_type": "markdown",
      "metadata": {
        "id": "VGHPIZ83Fav7"
      },
      "source": [
        "It is also possible to limit the number of splits:"
      ]
    },
    {
      "cell_type": "code",
      "metadata": {
        "colab": {
          "base_uri": "https://localhost:8080/"
        },
        "id": "K02KASnEFe1L",
        "outputId": "fc7a2729-5f92-465e-eca6-b5fb958d8f49"
      },
      "source": [
        "print(s2.str.split(\"_\", expand=True, n=1))"
      ],
      "execution_count": 74,
      "outputs": [
        {
          "output_type": "stream",
          "name": "stdout",
          "text": [
            "      0     1\n",
            "0     a   b_c\n",
            "1     c   d_e\n",
            "2  <NA>  <NA>\n",
            "3     f   g_h\n"
          ]
        }
      ]
    }
  ]
}
